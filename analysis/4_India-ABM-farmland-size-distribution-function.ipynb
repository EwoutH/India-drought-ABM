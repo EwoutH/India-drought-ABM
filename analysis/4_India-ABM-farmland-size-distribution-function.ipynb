{
 "cells": [
  {
   "cell_type": "markdown",
   "source": [
    "## Estimate lognormal distribution of farm sizes"
   ],
   "metadata": {
    "collapsed": false
   }
  },
  {
   "cell_type": "markdown",
   "source": [
    "Classification of farmers based on land holdings is as follows:\n",
    "Marginal: < 1 ha\n",
    "Small: 1-2 ha\n",
    "Semi-medium: 2-4 ha\n",
    "Medium: 4-10 ha\n",
    "Large: >10 ha"
   ],
   "metadata": {
    "collapsed": false
   }
  },
  {
   "cell_type": "code",
   "execution_count": 1,
   "metadata": {
    "collapsed": true,
    "ExecuteTime": {
     "end_time": "2023-06-06T20:13:22.741468200Z",
     "start_time": "2023-06-06T20:13:21.126676300Z"
    }
   },
   "outputs": [
    {
     "data": {
      "text/plain": "             Number           Area  Area per farmer\nMarginal     497476  287813.175517         0.578547\nSmall        357956  513225.280386         1.433766\nSemi medium  248166  689381.443650         2.777904\nMedium       111991  645684.047012         5.765499\nLarge         14631  211130.155641        14.430330",
      "text/html": "<div>\n<style scoped>\n    .dataframe tbody tr th:only-of-type {\n        vertical-align: middle;\n    }\n\n    .dataframe tbody tr th {\n        vertical-align: top;\n    }\n\n    .dataframe thead th {\n        text-align: right;\n    }\n</style>\n<table border=\"1\" class=\"dataframe\">\n  <thead>\n    <tr style=\"text-align: right;\">\n      <th></th>\n      <th>Number</th>\n      <th>Area</th>\n      <th>Area per farmer</th>\n    </tr>\n  </thead>\n  <tbody>\n    <tr>\n      <th>Marginal</th>\n      <td>497476</td>\n      <td>287813.175517</td>\n      <td>0.578547</td>\n    </tr>\n    <tr>\n      <th>Small</th>\n      <td>357956</td>\n      <td>513225.280386</td>\n      <td>1.433766</td>\n    </tr>\n    <tr>\n      <th>Semi medium</th>\n      <td>248166</td>\n      <td>689381.443650</td>\n      <td>2.777904</td>\n    </tr>\n    <tr>\n      <th>Medium</th>\n      <td>111991</td>\n      <td>645684.047012</td>\n      <td>5.765499</td>\n    </tr>\n    <tr>\n      <th>Large</th>\n      <td>14631</td>\n      <td>211130.155641</td>\n      <td>14.430330</td>\n    </tr>\n  </tbody>\n</table>\n</div>"
     },
     "execution_count": 1,
     "metadata": {},
     "output_type": "execute_result"
    }
   ],
   "source": [
    "from scipy.stats import lognorm\n",
    "import numpy as np\n",
    "import matplotlib.pyplot as plt\n",
    "import pandas as pd\n",
    "\n",
    "# Define the shape of the distribution\n",
    "# The parameters can be adjusted based on the characteristics of your specific data\n",
    "shape, loc, scale = 0.92, 0, 1.25\n",
    "\n",
    "# Draw random samples from the distribution for each farmer\n",
    "farm_sizes = lognorm.rvs(shape, loc, scale, size=1230220)\n",
    "\n",
    "# Cap farm sizes at 200 ha\n",
    "farm_sizes = np.minimum(farm_sizes, 1000)\n",
    "\n",
    "# Create a list of classes\n",
    "classes = ['Marginal', 'Small', 'Semi medium', 'Medium', 'Large']\n",
    "\n",
    "# Determine the number of farmers in each class\n",
    "class_counts = np.histogram(farm_sizes, bins=[0, 1, 2, 4, 10, 200])[0]\n",
    "\n",
    "# Determine the total area of land in each class. Take the sum of the farm sizes in each class.\n",
    "class_areas = np.histogram(farm_sizes, bins=[0, 1, 2, 4, 10, 200], weights=farm_sizes)[0]\n",
    "\n",
    "# Determine the average farm size in each class\n",
    "class_sizes = class_areas / class_counts\n",
    "\n",
    "# Create a dataframe with the results\n",
    "df = pd.DataFrame({'Number': class_counts, 'Area': class_areas, 'Area per farmer': class_sizes}, index=classes)\n",
    "df"
   ]
  },
  {
   "cell_type": "code",
   "execution_count": 2,
   "outputs": [
    {
     "data": {
      "text/plain": "<Figure size 640x480 with 1 Axes>",
      "image/png": "[encoded data removed]"
     },
     "metadata": {},
     "output_type": "display_data"
    }
   ],
   "source": [
    "# Create a histogram of the farm sizes. Limit the x-axis to 30 ha.\n",
    "plt.hist(farm_sizes, bins=1000, range=(0, 20))\n",
    "plt.show()"
   ],
   "metadata": {
    "collapsed": false,
    "ExecuteTime": {
     "end_time": "2023-06-06T20:13:23.975056900Z",
     "start_time": "2023-06-06T20:13:22.741468200Z"
    }
   }
  },
  {
   "cell_type": "code",
   "execution_count": 3,
   "outputs": [
    {
     "data": {
      "text/plain": "               Number      Area  Area per farmer\nMarginal     462990.0  251240.0         0.542647\nSmall        398200.0  565310.0         1.419663\nSemi medium  250050.0  669320.0         2.676745\nMedium       104880.0  595010.0         5.673246\nLarge         14110.0  198310.0        14.054571",
      "text/html": "<div>\n<style scoped>\n    .dataframe tbody tr th:only-of-type {\n        vertical-align: middle;\n    }\n\n    .dataframe tbody tr th {\n        vertical-align: top;\n    }\n\n    .dataframe thead th {\n        text-align: right;\n    }\n</style>\n<table border=\"1\" class=\"dataframe\">\n  <thead>\n    <tr style=\"text-align: right;\">\n      <th></th>\n      <th>Number</th>\n      <th>Area</th>\n      <th>Area per farmer</th>\n    </tr>\n  </thead>\n  <tbody>\n    <tr>\n      <th>Marginal</th>\n      <td>462990.0</td>\n      <td>251240.0</td>\n      <td>0.542647</td>\n    </tr>\n    <tr>\n      <th>Small</th>\n      <td>398200.0</td>\n      <td>565310.0</td>\n      <td>1.419663</td>\n    </tr>\n    <tr>\n      <th>Semi medium</th>\n      <td>250050.0</td>\n      <td>669320.0</td>\n      <td>2.676745</td>\n    </tr>\n    <tr>\n      <th>Medium</th>\n      <td>104880.0</td>\n      <td>595010.0</td>\n      <td>5.673246</td>\n    </tr>\n    <tr>\n      <th>Large</th>\n      <td>14110.0</td>\n      <td>198310.0</td>\n      <td>14.054571</td>\n    </tr>\n  </tbody>\n</table>\n</div>"
     },
     "execution_count": 3,
     "metadata": {},
     "output_type": "execute_result"
    }
   ],
   "source": [
    "# Load in the original data\n",
    "df2 = pd.read_csv(\"../Data/Farmland/farmland_clean.csv\", index_col=0)\n",
    "df2 = df2.drop(df2.tail(1).index)\n",
    "df2"
   ],
   "metadata": {
    "collapsed": false,
    "ExecuteTime": {
     "end_time": "2023-06-06T20:13:23.977777900Z",
     "start_time": "2023-06-06T20:13:23.964416100Z"
    }
   }
  },
  {
   "cell_type": "code",
   "execution_count": 4,
   "outputs": [
    {
     "data": {
      "text/plain": "               Number      Area  Area per farmer\nMarginal     0.074485  0.145571         0.066157\nSmall       -0.101065 -0.092135         0.009934\nSemi medium -0.007534  0.029973         0.037792\nMedium       0.067801  0.085165         0.016261\nLarge        0.036924  0.064647         0.026736",
      "text/html": "<div>\n<style scoped>\n    .dataframe tbody tr th:only-of-type {\n        vertical-align: middle;\n    }\n\n    .dataframe tbody tr th {\n        vertical-align: top;\n    }\n\n    .dataframe thead th {\n        text-align: right;\n    }\n</style>\n<table border=\"1\" class=\"dataframe\">\n  <thead>\n    <tr style=\"text-align: right;\">\n      <th></th>\n      <th>Number</th>\n      <th>Area</th>\n      <th>Area per farmer</th>\n    </tr>\n  </thead>\n  <tbody>\n    <tr>\n      <th>Marginal</th>\n      <td>0.074485</td>\n      <td>0.145571</td>\n      <td>0.066157</td>\n    </tr>\n    <tr>\n      <th>Small</th>\n      <td>-0.101065</td>\n      <td>-0.092135</td>\n      <td>0.009934</td>\n    </tr>\n    <tr>\n      <th>Semi medium</th>\n      <td>-0.007534</td>\n      <td>0.029973</td>\n      <td>0.037792</td>\n    </tr>\n    <tr>\n      <th>Medium</th>\n      <td>0.067801</td>\n      <td>0.085165</td>\n      <td>0.016261</td>\n    </tr>\n    <tr>\n      <th>Large</th>\n      <td>0.036924</td>\n      <td>0.064647</td>\n      <td>0.026736</td>\n    </tr>\n  </tbody>\n</table>\n</div>"
     },
     "execution_count": 4,
     "metadata": {},
     "output_type": "execute_result"
    }
   ],
   "source": [
    "# Calculate the relative difference between the two dataframes.\n",
    "df_rel = (df - df2) / df2\n",
    "df_rel"
   ],
   "metadata": {
    "collapsed": false,
    "ExecuteTime": {
     "end_time": "2023-06-06T20:13:23.992764600Z",
     "start_time": "2023-06-06T20:13:23.978776900Z"
    }
   }
  },
  {
   "cell_type": "code",
   "execution_count": 5,
   "outputs": [
    {
     "name": "stdout",
     "output_type": "stream",
     "text": [
      "Average relative difference: 28.74%\n",
      "Number             0.28781\n",
      "Area               0.41749\n",
      "Area per farmer    0.15688\n",
      "dtype: float64\n"
     ]
    }
   ],
   "source": [
    "# Take  the absolute sum of all relative differences\n",
    "sums = df_rel.abs().sum()\n",
    "print(f\"Average relative difference: {sums.mean():.2%}\\n{sums}\")"
   ],
   "metadata": {
    "collapsed": false,
    "ExecuteTime": {
     "end_time": "2023-06-06T20:13:24.007197800Z",
     "start_time": "2023-06-06T20:13:23.990765500Z"
    }
   }
  }
 ],
 "metadata": {
  "kernelspec": {
   "display_name": "Python 3",
   "language": "python",
   "name": "python3"
  },
  "language_info": {
   "codemirror_mode": {
    "name": "ipython",
    "version": 2
   },
   "file_extension": ".py",
   "mimetype": "text/x-python",
   "name": "python",
   "nbconvert_exporter": "python",
   "pygments_lexer": "ipython2",
   "version": "2.7.6"
  }
 },
 "nbformat": 4,
 "nbformat_minor": 0
}

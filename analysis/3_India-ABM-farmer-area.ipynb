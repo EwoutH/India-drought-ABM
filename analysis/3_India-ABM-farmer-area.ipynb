{
 "cells": [
  {
   "cell_type": "code",
   "execution_count": 1,
   "metadata": {
    "collapsed": true,
    "ExecuteTime": {
     "end_time": "2023-06-09T08:22:29.007197100Z",
     "start_time": "2023-06-09T08:22:28.761710700Z"
    }
   },
   "outputs": [],
   "source": [
    "import pandas as pd"
   ]
  },
  {
   "cell_type": "code",
   "execution_count": 2,
   "outputs": [
    {
     "data": {
      "text/plain": "             MARGINAL NUMBER (1000 Number)  MARGINAL AREA (1000 ha)  \\\nDist Name                                                             \nChitradurga                         109.18                    59.14   \nBellary                             105.05                    58.68   \nDavanagere                          135.25                    69.32   \nGadag                                35.51                    21.32   \nHaveri                               78.00                    42.78   \n\n             SMALL NUMBER (1000 Number)  SMALL AREA (1000 ha)  \\\nDist Name                                                       \nChitradurga                       90.37                127.59   \nBellary                           82.81                118.36   \nDavanagere                        84.52                117.14   \nGadag                             60.15                 87.83   \nHaveri                            80.35                114.39   \n\n             SEMI MEDIUM NUMBER (1000 Number)  SEMI MEDIUM AREA (1000 ha)  \\\nDist Name                                                                   \nChitradurga                             60.06                      158.78   \nBellary                                 56.56                      153.17   \nDavanagere                              45.91                      121.68   \nGadag                                   43.61                      118.67   \nHaveri                                  43.91                      117.02   \n\n             MEDIUM NUMBER (1000 Number)  MEDIUM AREA (1000 ha)  \\\nDist Name                                                         \nChitradurga                        26.80                 152.83   \nBellary                            26.76                 152.63   \nDavanagere                         15.54                  85.64   \nGadag                              21.24                 122.52   \nHaveri                             14.54                  81.39   \n\n             LARGE NUMBER (1000 Number)  LARGE AREA (1000 ha)  \nDist Name                                                      \nChitradurga                        4.17                 62.44  \nBellary                            3.97                 54.68  \nDavanagere                         1.46                 19.90  \nGadag                              2.95                 39.94  \nHaveri                             1.56                 21.35  ",
      "text/html": "<div>\n<style scoped>\n    .dataframe tbody tr th:only-of-type {\n        vertical-align: middle;\n    }\n\n    .dataframe tbody tr th {\n        vertical-align: top;\n    }\n\n    .dataframe thead th {\n        text-align: right;\n    }\n</style>\n<table border=\"1\" class=\"dataframe\">\n  <thead>\n    <tr style=\"text-align: right;\">\n      <th></th>\n      <th>MARGINAL NUMBER (1000 Number)</th>\n      <th>MARGINAL AREA (1000 ha)</th>\n      <th>SMALL NUMBER (1000 Number)</th>\n      <th>SMALL AREA (1000 ha)</th>\n      <th>SEMI MEDIUM NUMBER (1000 Number)</th>\n      <th>SEMI MEDIUM AREA (1000 ha)</th>\n      <th>MEDIUM NUMBER (1000 Number)</th>\n      <th>MEDIUM AREA (1000 ha)</th>\n      <th>LARGE NUMBER (1000 Number)</th>\n      <th>LARGE AREA (1000 ha)</th>\n    </tr>\n    <tr>\n      <th>Dist Name</th>\n      <th></th>\n      <th></th>\n      <th></th>\n      <th></th>\n      <th></th>\n      <th></th>\n      <th></th>\n      <th></th>\n      <th></th>\n      <th></th>\n    </tr>\n  </thead>\n  <tbody>\n    <tr>\n      <th>Chitradurga</th>\n      <td>109.18</td>\n      <td>59.14</td>\n      <td>90.37</td>\n      <td>127.59</td>\n      <td>60.06</td>\n      <td>158.78</td>\n      <td>26.80</td>\n      <td>152.83</td>\n      <td>4.17</td>\n      <td>62.44</td>\n    </tr>\n    <tr>\n      <th>Bellary</th>\n      <td>105.05</td>\n      <td>58.68</td>\n      <td>82.81</td>\n      <td>118.36</td>\n      <td>56.56</td>\n      <td>153.17</td>\n      <td>26.76</td>\n      <td>152.63</td>\n      <td>3.97</td>\n      <td>54.68</td>\n    </tr>\n    <tr>\n      <th>Davanagere</th>\n      <td>135.25</td>\n      <td>69.32</td>\n      <td>84.52</td>\n      <td>117.14</td>\n      <td>45.91</td>\n      <td>121.68</td>\n      <td>15.54</td>\n      <td>85.64</td>\n      <td>1.46</td>\n      <td>19.90</td>\n    </tr>\n    <tr>\n      <th>Gadag</th>\n      <td>35.51</td>\n      <td>21.32</td>\n      <td>60.15</td>\n      <td>87.83</td>\n      <td>43.61</td>\n      <td>118.67</td>\n      <td>21.24</td>\n      <td>122.52</td>\n      <td>2.95</td>\n      <td>39.94</td>\n    </tr>\n    <tr>\n      <th>Haveri</th>\n      <td>78.00</td>\n      <td>42.78</td>\n      <td>80.35</td>\n      <td>114.39</td>\n      <td>43.91</td>\n      <td>117.02</td>\n      <td>14.54</td>\n      <td>81.39</td>\n      <td>1.56</td>\n      <td>21.35</td>\n    </tr>\n  </tbody>\n</table>\n</div>"
     },
     "execution_count": 2,
     "metadata": {},
     "output_type": "execute_result"
    }
   ],
   "source": [
    "farm_df_local = pd.read_csv('../Data/Farmland/ICRISAT-District Level Operational Holdings.csv')\n",
    "\n",
    "# Drop all the Year rows that aren't 2010\n",
    "farm_df_local = farm_df_local[farm_df_local['Year'] == 2010]\n",
    "\n",
    "# Drop the Dist Code, Year, State Code, and State Name columns\n",
    "farm_df_local = farm_df_local.drop(columns=['Dist Code', 'Year', 'State Code', 'State Name'])\n",
    "# Drop the last two columns, which contain the totals\n",
    "farm_df_local = farm_df_local.drop(columns=['TOTAL NUMBER (1000 Number)', 'TOTAL AREA (1000 ha)'])\n",
    "\n",
    "# Set the Dist Name as the index\n",
    "farm_df_local = farm_df_local.set_index('Dist Name')\n",
    "\n",
    "# Print the column names\n",
    "farm_df_local"
   ],
   "metadata": {
    "collapsed": false,
    "ExecuteTime": {
     "end_time": "2023-06-09T08:22:29.021839400Z",
     "start_time": "2023-06-09T08:22:29.007197100Z"
    }
   }
  },
  {
   "cell_type": "code",
   "execution_count": 3,
   "outputs": [
    {
     "data": {
      "text/plain": "Dist Name                                    \nChitradurga  MARGINAL NUMBER (1000 Number)       109.18\n             MARGINAL AREA (1000 ha)              59.14\n             SMALL NUMBER (1000 Number)           90.37\n             SMALL AREA (1000 ha)                127.59\n             SEMI MEDIUM NUMBER (1000 Number)     60.06\n             SEMI MEDIUM AREA (1000 ha)          158.78\n             MEDIUM NUMBER (1000 Number)          26.80\n             MEDIUM AREA (1000 ha)               152.83\n             LARGE NUMBER (1000 Number)            4.17\n             LARGE AREA (1000 ha)                 62.44\nBellary      MARGINAL NUMBER (1000 Number)       105.05\n             MARGINAL AREA (1000 ha)              58.68\n             SMALL NUMBER (1000 Number)           82.81\n             SMALL AREA (1000 ha)                118.36\n             SEMI MEDIUM NUMBER (1000 Number)     56.56\n             SEMI MEDIUM AREA (1000 ha)          153.17\n             MEDIUM NUMBER (1000 Number)          26.76\n             MEDIUM AREA (1000 ha)               152.63\n             LARGE NUMBER (1000 Number)            3.97\n             LARGE AREA (1000 ha)                 54.68\nDavanagere   MARGINAL NUMBER (1000 Number)       135.25\n             MARGINAL AREA (1000 ha)              69.32\n             SMALL NUMBER (1000 Number)           84.52\n             SMALL AREA (1000 ha)                117.14\n             SEMI MEDIUM NUMBER (1000 Number)     45.91\n             SEMI MEDIUM AREA (1000 ha)          121.68\n             MEDIUM NUMBER (1000 Number)          15.54\n             MEDIUM AREA (1000 ha)                85.64\n             LARGE NUMBER (1000 Number)            1.46\n             LARGE AREA (1000 ha)                 19.90\nGadag        MARGINAL NUMBER (1000 Number)        35.51\n             MARGINAL AREA (1000 ha)              21.32\n             SMALL NUMBER (1000 Number)           60.15\n             SMALL AREA (1000 ha)                 87.83\n             SEMI MEDIUM NUMBER (1000 Number)     43.61\n             SEMI MEDIUM AREA (1000 ha)          118.67\n             MEDIUM NUMBER (1000 Number)          21.24\n             MEDIUM AREA (1000 ha)               122.52\n             LARGE NUMBER (1000 Number)            2.95\n             LARGE AREA (1000 ha)                 39.94\nHaveri       MARGINAL NUMBER (1000 Number)        78.00\n             MARGINAL AREA (1000 ha)              42.78\n             SMALL NUMBER (1000 Number)           80.35\n             SMALL AREA (1000 ha)                114.39\n             SEMI MEDIUM NUMBER (1000 Number)     43.91\n             SEMI MEDIUM AREA (1000 ha)          117.02\n             MEDIUM NUMBER (1000 Number)          14.54\n             MEDIUM AREA (1000 ha)                81.39\n             LARGE NUMBER (1000 Number)            1.56\n             LARGE AREA (1000 ha)                 21.35\ndtype: float64"
     },
     "execution_count": 3,
     "metadata": {},
     "output_type": "execute_result"
    }
   ],
   "source": [
    "# Create a multiindex series\n",
    "farm_series_local = farm_df_local.stack()\n",
    "farm_series_local"
   ],
   "metadata": {
    "collapsed": false,
    "ExecuteTime": {
     "end_time": "2023-06-09T08:22:29.029557100Z",
     "start_time": "2023-06-09T08:22:29.021839400Z"
    }
   }
  },
  {
   "cell_type": "code",
   "execution_count": 4,
   "outputs": [
    {
     "data": {
      "text/plain": "                           Number      Area\nDistrict    Size Class                     \nChitradurga Marginal     109180.0   59140.0\n            Small         90370.0  127590.0\n            Semi medium   60060.0  158780.0\n            Medium        26800.0  152830.0\n            Large          4170.0   62440.0\nBellary     Marginal     105050.0   58680.0\n            Small         82810.0  118360.0\n            Semi medium   56560.0  153170.0\n            Medium        26760.0  152630.0\n            Large          3970.0   54680.0\nDavanagere  Marginal     135250.0   69320.0\n            Small         84520.0  117140.0\n            Semi medium   45910.0  121680.0\n            Medium        15540.0   85640.0\n            Large          1460.0   19900.0\nGadag       Marginal      35510.0   21320.0\n            Small         60150.0   87830.0\n            Semi medium   43610.0  118670.0\n            Medium        21240.0  122520.0\n            Large          2950.0   39940.0\nHaveri      Marginal      78000.0   42780.0\n            Small         80350.0  114390.0\n            Semi medium   43910.0  117020.0\n            Medium        14540.0   81390.0\n            Large          1560.0   21350.0",
      "text/html": "<div>\n<style scoped>\n    .dataframe tbody tr th:only-of-type {\n        vertical-align: middle;\n    }\n\n    .dataframe tbody tr th {\n        vertical-align: top;\n    }\n\n    .dataframe thead th {\n        text-align: right;\n    }\n</style>\n<table border=\"1\" class=\"dataframe\">\n  <thead>\n    <tr style=\"text-align: right;\">\n      <th></th>\n      <th></th>\n      <th>Number</th>\n      <th>Area</th>\n    </tr>\n    <tr>\n      <th>District</th>\n      <th>Size Class</th>\n      <th></th>\n      <th></th>\n    </tr>\n  </thead>\n  <tbody>\n    <tr>\n      <th rowspan=\"5\" valign=\"top\">Chitradurga</th>\n      <th>Marginal</th>\n      <td>109180.0</td>\n      <td>59140.0</td>\n    </tr>\n    <tr>\n      <th>Small</th>\n      <td>90370.0</td>\n      <td>127590.0</td>\n    </tr>\n    <tr>\n      <th>Semi medium</th>\n      <td>60060.0</td>\n      <td>158780.0</td>\n    </tr>\n    <tr>\n      <th>Medium</th>\n      <td>26800.0</td>\n      <td>152830.0</td>\n    </tr>\n    <tr>\n      <th>Large</th>\n      <td>4170.0</td>\n      <td>62440.0</td>\n    </tr>\n    <tr>\n      <th rowspan=\"5\" valign=\"top\">Bellary</th>\n      <th>Marginal</th>\n      <td>105050.0</td>\n      <td>58680.0</td>\n    </tr>\n    <tr>\n      <th>Small</th>\n      <td>82810.0</td>\n      <td>118360.0</td>\n    </tr>\n    <tr>\n      <th>Semi medium</th>\n      <td>56560.0</td>\n      <td>153170.0</td>\n    </tr>\n    <tr>\n      <th>Medium</th>\n      <td>26760.0</td>\n      <td>152630.0</td>\n    </tr>\n    <tr>\n      <th>Large</th>\n      <td>3970.0</td>\n      <td>54680.0</td>\n    </tr>\n    <tr>\n      <th rowspan=\"5\" valign=\"top\">Davanagere</th>\n      <th>Marginal</th>\n      <td>135250.0</td>\n      <td>69320.0</td>\n    </tr>\n    <tr>\n      <th>Small</th>\n      <td>84520.0</td>\n      <td>117140.0</td>\n    </tr>\n    <tr>\n      <th>Semi medium</th>\n      <td>45910.0</td>\n      <td>121680.0</td>\n    </tr>\n    <tr>\n      <th>Medium</th>\n      <td>15540.0</td>\n      <td>85640.0</td>\n    </tr>\n    <tr>\n      <th>Large</th>\n      <td>1460.0</td>\n      <td>19900.0</td>\n    </tr>\n    <tr>\n      <th rowspan=\"5\" valign=\"top\">Gadag</th>\n      <th>Marginal</th>\n      <td>35510.0</td>\n      <td>21320.0</td>\n    </tr>\n    <tr>\n      <th>Small</th>\n      <td>60150.0</td>\n      <td>87830.0</td>\n    </tr>\n    <tr>\n      <th>Semi medium</th>\n      <td>43610.0</td>\n      <td>118670.0</td>\n    </tr>\n    <tr>\n      <th>Medium</th>\n      <td>21240.0</td>\n      <td>122520.0</td>\n    </tr>\n    <tr>\n      <th>Large</th>\n      <td>2950.0</td>\n      <td>39940.0</td>\n    </tr>\n    <tr>\n      <th rowspan=\"5\" valign=\"top\">Haveri</th>\n      <th>Marginal</th>\n      <td>78000.0</td>\n      <td>42780.0</td>\n    </tr>\n    <tr>\n      <th>Small</th>\n      <td>80350.0</td>\n      <td>114390.0</td>\n    </tr>\n    <tr>\n      <th>Semi medium</th>\n      <td>43910.0</td>\n      <td>117020.0</td>\n    </tr>\n    <tr>\n      <th>Medium</th>\n      <td>14540.0</td>\n      <td>81390.0</td>\n    </tr>\n    <tr>\n      <th>Large</th>\n      <td>1560.0</td>\n      <td>21350.0</td>\n    </tr>\n  </tbody>\n</table>\n</div>"
     },
     "execution_count": 4,
     "metadata": {},
     "output_type": "execute_result"
    }
   ],
   "source": [
    "# Add every other value as a new column\n",
    "column1 = farm_series_local[::2].reset_index()\n",
    "# Remove the NUMBER (1000 Number) from the index name and capitalize it\n",
    "column1.iloc[:, 1] = column1.iloc[:, 1].str.removesuffix(' NUMBER (1000 Number)').str.capitalize()\n",
    "column1.set_index(column1.columns[:2].tolist(), inplace=True)\n",
    "column1 = column1[column1.columns[0]] * 1000\n",
    "\n",
    "column2 = farm_series_local[1::2].reset_index()\n",
    "column2.iloc[:, 1] = column2.iloc[:, 1].str.removesuffix(' AREA (1000 ha)').str.capitalize()\n",
    "column2.set_index(column2.columns[:2].tolist(), inplace=True)\n",
    "column2 = column2[column2.columns[0]] * 1000\n",
    "\n",
    "# Create a new dataframe\n",
    "farm_df_local = pd.DataFrame({'Number': column1, 'Area': column2})\n",
    "# Rename the level_1 index to 'Size Class'\n",
    "farm_df_local.index.rename(['District', 'Size Class'], inplace=True)\n",
    "farm_df_local"
   ],
   "metadata": {
    "collapsed": false,
    "ExecuteTime": {
     "end_time": "2023-06-09T08:22:29.069851700Z",
     "start_time": "2023-06-09T08:22:29.029557100Z"
    }
   }
  },
  {
   "cell_type": "code",
   "execution_count": 5,
   "outputs": [
    {
     "data": {
      "text/plain": "                           Number      Area  Area per farmer\nDistrict    Size Class                                      \nChitradurga Marginal     109180.0   59140.0         0.541674\n            Small         90370.0  127590.0         1.411862\n            Semi medium   60060.0  158780.0         2.643690\n            Medium        26800.0  152830.0         5.702612\n            Large          4170.0   62440.0        14.973621\nBellary     Marginal     105050.0   58680.0         0.558591\n            Small         82810.0  118360.0         1.429296\n            Semi medium   56560.0  153170.0         2.708098\n            Medium        26760.0  152630.0         5.703662\n            Large          3970.0   54680.0        13.773300\nDavanagere  Marginal     135250.0   69320.0         0.512532\n            Small         84520.0  117140.0         1.385944\n            Semi medium   45910.0  121680.0         2.650403\n            Medium        15540.0   85640.0         5.510940\n            Large          1460.0   19900.0        13.630137\nGadag       Marginal      35510.0   21320.0         0.600394\n            Small         60150.0   87830.0         1.460183\n            Semi medium   43610.0  118670.0         2.721165\n            Medium        21240.0  122520.0         5.768362\n            Large          2950.0   39940.0        13.538983\nHaveri      Marginal      78000.0   42780.0         0.548462\n            Small         80350.0  114390.0         1.423647\n            Semi medium   43910.0  117020.0         2.664997\n            Medium        14540.0   81390.0         5.597662\n            Large          1560.0   21350.0        13.685897",
      "text/html": "<div>\n<style scoped>\n    .dataframe tbody tr th:only-of-type {\n        vertical-align: middle;\n    }\n\n    .dataframe tbody tr th {\n        vertical-align: top;\n    }\n\n    .dataframe thead th {\n        text-align: right;\n    }\n</style>\n<table border=\"1\" class=\"dataframe\">\n  <thead>\n    <tr style=\"text-align: right;\">\n      <th></th>\n      <th></th>\n      <th>Number</th>\n      <th>Area</th>\n      <th>Area per farmer</th>\n    </tr>\n    <tr>\n      <th>District</th>\n      <th>Size Class</th>\n      <th></th>\n      <th></th>\n      <th></th>\n    </tr>\n  </thead>\n  <tbody>\n    <tr>\n      <th rowspan=\"5\" valign=\"top\">Chitradurga</th>\n      <th>Marginal</th>\n      <td>109180.0</td>\n      <td>59140.0</td>\n      <td>0.541674</td>\n    </tr>\n    <tr>\n      <th>Small</th>\n      <td>90370.0</td>\n      <td>127590.0</td>\n      <td>1.411862</td>\n    </tr>\n    <tr>\n      <th>Semi medium</th>\n      <td>60060.0</td>\n      <td>158780.0</td>\n      <td>2.643690</td>\n    </tr>\n    <tr>\n      <th>Medium</th>\n      <td>26800.0</td>\n      <td>152830.0</td>\n      <td>5.702612</td>\n    </tr>\n    <tr>\n      <th>Large</th>\n      <td>4170.0</td>\n      <td>62440.0</td>\n      <td>14.973621</td>\n    </tr>\n    <tr>\n      <th rowspan=\"5\" valign=\"top\">Bellary</th>\n      <th>Marginal</th>\n      <td>105050.0</td>\n      <td>58680.0</td>\n      <td>0.558591</td>\n    </tr>\n    <tr>\n      <th>Small</th>\n      <td>82810.0</td>\n      <td>118360.0</td>\n      <td>1.429296</td>\n    </tr>\n    <tr>\n      <th>Semi medium</th>\n      <td>56560.0</td>\n      <td>153170.0</td>\n      <td>2.708098</td>\n    </tr>\n    <tr>\n      <th>Medium</th>\n      <td>26760.0</td>\n      <td>152630.0</td>\n      <td>5.703662</td>\n    </tr>\n    <tr>\n      <th>Large</th>\n      <td>3970.0</td>\n      <td>54680.0</td>\n      <td>13.773300</td>\n    </tr>\n    <tr>\n      <th rowspan=\"5\" valign=\"top\">Davanagere</th>\n      <th>Marginal</th>\n      <td>135250.0</td>\n      <td>69320.0</td>\n      <td>0.512532</td>\n    </tr>\n    <tr>\n      <th>Small</th>\n      <td>84520.0</td>\n      <td>117140.0</td>\n      <td>1.385944</td>\n    </tr>\n    <tr>\n      <th>Semi medium</th>\n      <td>45910.0</td>\n      <td>121680.0</td>\n      <td>2.650403</td>\n    </tr>\n    <tr>\n      <th>Medium</th>\n      <td>15540.0</td>\n      <td>85640.0</td>\n      <td>5.510940</td>\n    </tr>\n    <tr>\n      <th>Large</th>\n      <td>1460.0</td>\n      <td>19900.0</td>\n      <td>13.630137</td>\n    </tr>\n    <tr>\n      <th rowspan=\"5\" valign=\"top\">Gadag</th>\n      <th>Marginal</th>\n      <td>35510.0</td>\n      <td>21320.0</td>\n      <td>0.600394</td>\n    </tr>\n    <tr>\n      <th>Small</th>\n      <td>60150.0</td>\n      <td>87830.0</td>\n      <td>1.460183</td>\n    </tr>\n    <tr>\n      <th>Semi medium</th>\n      <td>43610.0</td>\n      <td>118670.0</td>\n      <td>2.721165</td>\n    </tr>\n    <tr>\n      <th>Medium</th>\n      <td>21240.0</td>\n      <td>122520.0</td>\n      <td>5.768362</td>\n    </tr>\n    <tr>\n      <th>Large</th>\n      <td>2950.0</td>\n      <td>39940.0</td>\n      <td>13.538983</td>\n    </tr>\n    <tr>\n      <th rowspan=\"5\" valign=\"top\">Haveri</th>\n      <th>Marginal</th>\n      <td>78000.0</td>\n      <td>42780.0</td>\n      <td>0.548462</td>\n    </tr>\n    <tr>\n      <th>Small</th>\n      <td>80350.0</td>\n      <td>114390.0</td>\n      <td>1.423647</td>\n    </tr>\n    <tr>\n      <th>Semi medium</th>\n      <td>43910.0</td>\n      <td>117020.0</td>\n      <td>2.664997</td>\n    </tr>\n    <tr>\n      <th>Medium</th>\n      <td>14540.0</td>\n      <td>81390.0</td>\n      <td>5.597662</td>\n    </tr>\n    <tr>\n      <th>Large</th>\n      <td>1560.0</td>\n      <td>21350.0</td>\n      <td>13.685897</td>\n    </tr>\n  </tbody>\n</table>\n</div>"
     },
     "execution_count": 5,
     "metadata": {},
     "output_type": "execute_result"
    }
   ],
   "source": [
    "# Area per farmer\n",
    "farm_df_local['Area per farmer'] = farm_df_local['Area'] / farm_df_local['Number']\n",
    "farm_df_local"
   ],
   "metadata": {
    "collapsed": false,
    "ExecuteTime": {
     "end_time": "2023-06-09T08:22:29.133114Z",
     "start_time": "2023-06-09T08:22:29.069851700Z"
    }
   }
  },
  {
   "cell_type": "code",
   "execution_count": 6,
   "outputs": [],
   "source": [
    "# Save the dataframe to a pickle file\n",
    "farm_df_local.to_pickle('../Data/Farmland/farmland_clean_per_district.pkl')\n",
    "\n",
    "# Save the dataframe to a csv file\n",
    "farm_df_local.to_csv('../Data/Farmland/farmland_clean_per_district.csv')"
   ],
   "metadata": {
    "collapsed": false,
    "ExecuteTime": {
     "end_time": "2023-06-09T08:22:29.133114Z",
     "start_time": "2023-06-09T08:22:29.069851700Z"
    }
   }
  }
 ],
 "metadata": {
  "kernelspec": {
   "display_name": "Python 3",
   "language": "python",
   "name": "python3"
  },
  "language_info": {
   "codemirror_mode": {
    "name": "ipython",
    "version": 2
   },
   "file_extension": ".py",
   "mimetype": "text/x-python",
   "name": "python",
   "nbconvert_exporter": "python",
   "pygments_lexer": "ipython2",
   "version": "2.7.6"
  }
 },
 "nbformat": 4,
 "nbformat_minor": 0
}

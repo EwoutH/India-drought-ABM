{
 "cells": [
  {
   "cell_type": "code",
   "execution_count": 1,
   "metadata": {
    "collapsed": true
   },
   "outputs": [],
   "source": [
    "import pandas as pd"
   ]
  },
  {
   "cell_type": "code",
   "execution_count": 2,
   "outputs": [
    {
     "data": {
      "text/plain": "   MARGINAL NUMBER (1000 Number)  MARGINAL AREA (1000 ha)  \\\n4                         462.99                   251.24   \n\n   SMALL NUMBER (1000 Number)  SMALL AREA (1000 ha)  \\\n4                       398.2                565.31   \n\n   SEMI MEDIUM NUMBER (1000 Number)  SEMI MEDIUM AREA (1000 ha)  \\\n4                            250.05                      669.32   \n\n   MEDIUM NUMBER (1000 Number)  MEDIUM AREA (1000 ha)  \\\n4                       104.88                 595.01   \n\n   LARGE NUMBER (1000 Number)  LARGE AREA (1000 ha)  \\\n4                       14.11                198.31   \n\n   TOTAL NUMBER (1000 Number)  TOTAL AREA (1000 ha)  \n4                     1230.22               2279.19  ",
      "text/html": "<div>\n<style scoped>\n    .dataframe tbody tr th:only-of-type {\n        vertical-align: middle;\n    }\n\n    .dataframe tbody tr th {\n        vertical-align: top;\n    }\n\n    .dataframe thead th {\n        text-align: right;\n    }\n</style>\n<table border=\"1\" class=\"dataframe\">\n  <thead>\n    <tr style=\"text-align: right;\">\n      <th></th>\n      <th>MARGINAL NUMBER (1000 Number)</th>\n      <th>MARGINAL AREA (1000 ha)</th>\n      <th>SMALL NUMBER (1000 Number)</th>\n      <th>SMALL AREA (1000 ha)</th>\n      <th>SEMI MEDIUM NUMBER (1000 Number)</th>\n      <th>SEMI MEDIUM AREA (1000 ha)</th>\n      <th>MEDIUM NUMBER (1000 Number)</th>\n      <th>MEDIUM AREA (1000 ha)</th>\n      <th>LARGE NUMBER (1000 Number)</th>\n      <th>LARGE AREA (1000 ha)</th>\n      <th>TOTAL NUMBER (1000 Number)</th>\n      <th>TOTAL AREA (1000 ha)</th>\n    </tr>\n  </thead>\n  <tbody>\n    <tr>\n      <th>4</th>\n      <td>462.99</td>\n      <td>251.24</td>\n      <td>398.2</td>\n      <td>565.31</td>\n      <td>250.05</td>\n      <td>669.32</td>\n      <td>104.88</td>\n      <td>595.01</td>\n      <td>14.11</td>\n      <td>198.31</td>\n      <td>1230.22</td>\n      <td>2279.19</td>\n    </tr>\n  </tbody>\n</table>\n</div>"
     },
     "execution_count": 2,
     "metadata": {},
     "output_type": "execute_result"
    }
   ],
   "source": [
    "farm_df_local = pd.read_csv('../Data/Farmland/farmland.csv')\n",
    "\n",
    "# Drop the year column\n",
    "farm_df_local = farm_df_local.drop(columns=['Year'])\n",
    "\n",
    "# Only keep the last row\n",
    "farm_df_local = farm_df_local.iloc[[-1]]\n",
    "\n",
    "# Print the column names\n",
    "farm_df_local"
   ],
   "metadata": {
    "collapsed": false
   }
  },
  {
   "cell_type": "code",
   "execution_count": 3,
   "outputs": [
    {
     "data": {
      "text/plain": "MARGINAL NUMBER (1000 Number)        462.99\nMARGINAL AREA (1000 ha)              251.24\nSMALL NUMBER (1000 Number)           398.20\nSMALL AREA (1000 ha)                 565.31\nSEMI MEDIUM NUMBER (1000 Number)     250.05\nSEMI MEDIUM AREA (1000 ha)           669.32\nMEDIUM NUMBER (1000 Number)          104.88\nMEDIUM AREA (1000 ha)                595.01\nLARGE NUMBER (1000 Number)            14.11\nLARGE AREA (1000 ha)                 198.31\nTOTAL NUMBER (1000 Number)          1230.22\nTOTAL AREA (1000 ha)                2279.19\nName: 4, dtype: float64"
     },
     "execution_count": 3,
     "metadata": {},
     "output_type": "execute_result"
    }
   ],
   "source": [
    "# Convert to a series\n",
    "farm_series_local = farm_df_local.squeeze()\n",
    "\n",
    "# Print the series\n",
    "farm_series_local"
   ],
   "metadata": {
    "collapsed": false
   }
  },
  {
   "cell_type": "code",
   "execution_count": 4,
   "outputs": [
    {
     "data": {
      "text/plain": "                 Number       Area\nMarginal       462990.0   251240.0\nSmall          398200.0   565310.0\nSemi medium    250050.0   669320.0\nMedium         104880.0   595010.0\nLarge           14110.0   198310.0\nTotal         1230220.0  2279190.0",
      "text/html": "<div>\n<style scoped>\n    .dataframe tbody tr th:only-of-type {\n        vertical-align: middle;\n    }\n\n    .dataframe tbody tr th {\n        vertical-align: top;\n    }\n\n    .dataframe thead th {\n        text-align: right;\n    }\n</style>\n<table border=\"1\" class=\"dataframe\">\n  <thead>\n    <tr style=\"text-align: right;\">\n      <th></th>\n      <th>Number</th>\n      <th>Area</th>\n    </tr>\n  </thead>\n  <tbody>\n    <tr>\n      <th>Marginal</th>\n      <td>462990.0</td>\n      <td>251240.0</td>\n    </tr>\n    <tr>\n      <th>Small</th>\n      <td>398200.0</td>\n      <td>565310.0</td>\n    </tr>\n    <tr>\n      <th>Semi medium</th>\n      <td>250050.0</td>\n      <td>669320.0</td>\n    </tr>\n    <tr>\n      <th>Medium</th>\n      <td>104880.0</td>\n      <td>595010.0</td>\n    </tr>\n    <tr>\n      <th>Large</th>\n      <td>14110.0</td>\n      <td>198310.0</td>\n    </tr>\n    <tr>\n      <th>Total</th>\n      <td>1230220.0</td>\n      <td>2279190.0</td>\n    </tr>\n  </tbody>\n</table>\n</div>"
     },
     "execution_count": 4,
     "metadata": {},
     "output_type": "execute_result"
    }
   ],
   "source": [
    "# Add every other value as a new column\n",
    "column1 = farm_series_local[::2]\n",
    "# Remove the NUMBER (1000 Number) from the index name and capitalize it\n",
    "column1.index = column1.index.str.removesuffix('NUMBER (1000 Number)').str.capitalize()\n",
    "column1 = column1 * 1000\n",
    "\n",
    "column2 = farm_series_local[1::2]\n",
    "column2.index = column2.index.str.removesuffix('AREA (1000 ha)').str.capitalize()\n",
    "column2 = column2 * 1000\n",
    "\n",
    "# Create a new dataframe\n",
    "farm_df_local = pd.DataFrame({'Number': column1, 'Area': column2})\n",
    "farm_df_local"
   ],
   "metadata": {
    "collapsed": false
   }
  },
  {
   "cell_type": "code",
   "execution_count": 5,
   "outputs": [
    {
     "data": {
      "text/plain": "                 Number       Area  Area per farmer\nMarginal       462990.0   251240.0         0.542647\nSmall          398200.0   565310.0         1.419663\nSemi medium    250050.0   669320.0         2.676745\nMedium         104880.0   595010.0         5.673246\nLarge           14110.0   198310.0        14.054571\nTotal         1230220.0  2279190.0         1.852669",
      "text/html": "<div>\n<style scoped>\n    .dataframe tbody tr th:only-of-type {\n        vertical-align: middle;\n    }\n\n    .dataframe tbody tr th {\n        vertical-align: top;\n    }\n\n    .dataframe thead th {\n        text-align: right;\n    }\n</style>\n<table border=\"1\" class=\"dataframe\">\n  <thead>\n    <tr style=\"text-align: right;\">\n      <th></th>\n      <th>Number</th>\n      <th>Area</th>\n      <th>Area per farmer</th>\n    </tr>\n  </thead>\n  <tbody>\n    <tr>\n      <th>Marginal</th>\n      <td>462990.0</td>\n      <td>251240.0</td>\n      <td>0.542647</td>\n    </tr>\n    <tr>\n      <th>Small</th>\n      <td>398200.0</td>\n      <td>565310.0</td>\n      <td>1.419663</td>\n    </tr>\n    <tr>\n      <th>Semi medium</th>\n      <td>250050.0</td>\n      <td>669320.0</td>\n      <td>2.676745</td>\n    </tr>\n    <tr>\n      <th>Medium</th>\n      <td>104880.0</td>\n      <td>595010.0</td>\n      <td>5.673246</td>\n    </tr>\n    <tr>\n      <th>Large</th>\n      <td>14110.0</td>\n      <td>198310.0</td>\n      <td>14.054571</td>\n    </tr>\n    <tr>\n      <th>Total</th>\n      <td>1230220.0</td>\n      <td>2279190.0</td>\n      <td>1.852669</td>\n    </tr>\n  </tbody>\n</table>\n</div>"
     },
     "execution_count": 5,
     "metadata": {},
     "output_type": "execute_result"
    }
   ],
   "source": [
    "# Area per farmer\n",
    "farm_df_local['Area per farmer'] = farm_df_local['Area'] / farm_df_local['Number']\n",
    "farm_df_local"
   ],
   "metadata": {
    "collapsed": false
   }
  },
  {
   "cell_type": "code",
   "execution_count": 6,
   "outputs": [],
   "source": [
    "# Save the dataframe to a csv file\n",
    "farm_df_local.to_csv('../Data/Farmland/farmland_clean.csv')"
   ],
   "metadata": {
    "collapsed": false
   }
  }
 ],
 "metadata": {
  "kernelspec": {
   "display_name": "Python 3",
   "language": "python",
   "name": "python3"
  },
  "language_info": {
   "codemirror_mode": {
    "name": "ipython",
    "version": 2
   },
   "file_extension": ".py",
   "mimetype": "text/x-python",
   "name": "python",
   "nbconvert_exporter": "python",
   "pygments_lexer": "ipython2",
   "version": "2.7.6"
  }
 },
 "nbformat": 4,
 "nbformat_minor": 0
}

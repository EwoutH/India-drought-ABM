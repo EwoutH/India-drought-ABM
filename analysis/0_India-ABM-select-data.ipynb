{
 "cells": [
  {
   "cell_type": "markdown",
   "source": [
    "## Selecting household income data"
   ],
   "metadata": {
    "collapsed": false
   }
  },
  {
   "cell_type": "code",
   "execution_count": 1,
   "metadata": {
    "collapsed": true,
    "ExecuteTime": {
     "start_time": "2023-05-13T17:13:46.656533Z",
     "end_time": "2023-05-13T17:13:47.503706Z"
    }
   },
   "outputs": [],
   "source": [
    "import glob\n",
    "import pandas as pd"
   ]
  },
  {
   "cell_type": "code",
   "execution_count": 2,
   "outputs": [
    {
     "name": "stdout",
     "output_type": "stream",
     "text": [
      "Type of filenames: <class 'list'>\n",
      "Number of files: 107\n",
      "First 3 files: ['data/Household income\\\\household_income_20140131_MS_rev.csv', 'data/Household income\\\\household_income_20140228_MS_rev.csv', 'data/Household income\\\\household_income_20140331_MS_rev.csv']\n"
     ]
    }
   ],
   "source": [
    "path = \"data/Household income/*.csv\"\n",
    "filenames = glob.glob(path)\n",
    "print(f\"Type of filenames: {type(filenames)}\")\n",
    "print(f\"Number of files: {len(filenames)}\")\n",
    "print(f\"First 3 files: {filenames[:3]}\")"
   ],
   "metadata": {
    "collapsed": false,
    "ExecuteTime": {
     "start_time": "2023-05-13T17:13:47.480708Z",
     "end_time": "2023-05-13T17:13:47.613754Z"
    }
   }
  },
  {
   "cell_type": "code",
   "execution_count": 3,
   "outputs": [],
   "source": [
    "# Read files to a single dataframe. Only select STATE Karnataka and DISTRICT Davanagere. Add the date in the filename as column.\n",
    "df = pd.DataFrame()\n",
    "for filename in filenames:\n",
    "    temp_df = pd.read_csv(filename)\n",
    "    temp_df = temp_df[(temp_df[\"STATE\"] == \"Karnataka\") & (temp_df[\"DISTRICT\"] == \"Davanagere\")]\n",
    "    temp_df[\"date_collected\"] = filename.split(\"_\")[2]\n",
    "    df = pd.concat([df, temp_df])"
   ],
   "metadata": {
    "collapsed": false,
    "ExecuteTime": {
     "start_time": "2023-05-13T17:13:47.522066Z",
     "end_time": "2023-05-13T17:15:53.803258Z"
    }
   }
  },
  {
   "cell_type": "code",
   "execution_count": 4,
   "outputs": [
    {
     "data": {
      "text/plain": "          HH_ID      STATE     HR    DISTRICT REGION_TYPE        STRATUM   \n95941  17322257  Karnataka  HR 61  Davanagere       RURAL  HR 61_RURAL_R  \\\n95942  13807056  Karnataka  HR 61  Davanagere       RURAL  HR 61_RURAL_R   \n95943  48243447  Karnataka  HR 61  Davanagere       RURAL  HR 61_RURAL_R   \n95944  42346033  Karnataka  HR 61  Davanagere       RURAL  HR 61_RURAL_R   \n95945  39923120  Karnataka  HR 61  Davanagere       RURAL  HR 61_RURAL_R   \n\n            PSU_ID MONTH_SLOT     MONTH RESPONSE_STATUS  ...   \n95941  PSU_ID_9810   Mar 2014  Jan 2014        Accepted  ...  \\\n95942  PSU_ID_9810   Mar 2014  Jan 2014        Accepted  ...   \n95943  PSU_ID_9810   Mar 2014  Jan 2014        Accepted  ...   \n95944  PSU_ID_9810   Mar 2014  Jan 2014        Accepted  ...   \n95945  PSU_ID_9810   Mar 2014  Jan 2014        Accepted  ...   \n\n      INCOME_OF_ALL_MEMBERS_FROM_PENSION  INCOME_OF_ALL_MEMBERS_FROM_DIVIDEND   \n95941                                NaN                                  NaN  \\\n95942                                NaN                                  NaN   \n95943                                NaN                                  NaN   \n95944                                NaN                                  NaN   \n95945                                NaN                                  NaN   \n\n       INCOME_OF_ALL_MEMBERS_FROM_INTEREST   \n95941                                  NaN  \\\n95942                                  NaN   \n95943                                  NaN   \n95944                                  NaN   \n95945                                  NaN   \n\n       INCOME_OF_HOUSEHOLD_FROM_GOVERNMENT_TRANSFERS   \n95941                                            NaN  \\\n95942                                            NaN   \n95943                                            NaN   \n95944                                            NaN   \n95945                                            NaN   \n\n       INCOME_OF_HOUSEHOLD_FROM_SALE_OF_ASSET   \n95941                                     NaN  \\\n95942                                     NaN   \n95943                                     NaN   \n95944                                     NaN   \n95945                                     NaN   \n\n       INCOME_OF_HOUSEHOLD_FROM_GAMBLING  FAMILY_SHIFTED   \n95941                                NaN             NaN  \\\n95942                                NaN             NaN   \n95943                                NaN             NaN   \n95944                                NaN             NaN   \n95945                                NaN             NaN   \n\n      INCOME_OF_ALL_MEMBERS_FROM_FD_PF_INSURANCE   \n95941                                        NaN  \\\n95942                                        NaN   \n95943                                        NaN   \n95944                                        NaN   \n95945                                        NaN   \n\n      INCOME_OF_HOUSEHOLD_FROM_IN_KIND_TRANSFERS_FROM_GOVERNMENT   \n95941                                                NaN          \\\n95942                                                NaN           \n95943                                                NaN           \n95944                                                NaN           \n95945                                                NaN           \n\n      INCOME_OF_HOUSEHOLD_FROM_IN_KIND_TRANSFERS_FROM_NGO  \n95941                                                NaN   \n95942                                                NaN   \n95943                                                NaN   \n95944                                                NaN   \n95945                                                NaN   \n\n[5 rows x 41 columns]",
      "text/html": "<div>\n<style scoped>\n    .dataframe tbody tr th:only-of-type {\n        vertical-align: middle;\n    }\n\n    .dataframe tbody tr th {\n        vertical-align: top;\n    }\n\n    .dataframe thead th {\n        text-align: right;\n    }\n</style>\n<table border=\"1\" class=\"dataframe\">\n  <thead>\n    <tr style=\"text-align: right;\">\n      <th></th>\n      <th>HH_ID</th>\n      <th>STATE</th>\n      <th>HR</th>\n      <th>DISTRICT</th>\n      <th>REGION_TYPE</th>\n      <th>STRATUM</th>\n      <th>PSU_ID</th>\n      <th>MONTH_SLOT</th>\n      <th>MONTH</th>\n      <th>RESPONSE_STATUS</th>\n      <th>...</th>\n      <th>INCOME_OF_ALL_MEMBERS_FROM_PENSION</th>\n      <th>INCOME_OF_ALL_MEMBERS_FROM_DIVIDEND</th>\n      <th>INCOME_OF_ALL_MEMBERS_FROM_INTEREST</th>\n      <th>INCOME_OF_HOUSEHOLD_FROM_GOVERNMENT_TRANSFERS</th>\n      <th>INCOME_OF_HOUSEHOLD_FROM_SALE_OF_ASSET</th>\n      <th>INCOME_OF_HOUSEHOLD_FROM_GAMBLING</th>\n      <th>FAMILY_SHIFTED</th>\n      <th>INCOME_OF_ALL_MEMBERS_FROM_FD_PF_INSURANCE</th>\n      <th>INCOME_OF_HOUSEHOLD_FROM_IN_KIND_TRANSFERS_FROM_GOVERNMENT</th>\n      <th>INCOME_OF_HOUSEHOLD_FROM_IN_KIND_TRANSFERS_FROM_NGO</th>\n    </tr>\n  </thead>\n  <tbody>\n    <tr>\n      <th>95941</th>\n      <td>17322257</td>\n      <td>Karnataka</td>\n      <td>HR 61</td>\n      <td>Davanagere</td>\n      <td>RURAL</td>\n      <td>HR 61_RURAL_R</td>\n      <td>PSU_ID_9810</td>\n      <td>Mar 2014</td>\n      <td>Jan 2014</td>\n      <td>Accepted</td>\n      <td>...</td>\n      <td>NaN</td>\n      <td>NaN</td>\n      <td>NaN</td>\n      <td>NaN</td>\n      <td>NaN</td>\n      <td>NaN</td>\n      <td>NaN</td>\n      <td>NaN</td>\n      <td>NaN</td>\n      <td>NaN</td>\n    </tr>\n    <tr>\n      <th>95942</th>\n      <td>13807056</td>\n      <td>Karnataka</td>\n      <td>HR 61</td>\n      <td>Davanagere</td>\n      <td>RURAL</td>\n      <td>HR 61_RURAL_R</td>\n      <td>PSU_ID_9810</td>\n      <td>Mar 2014</td>\n      <td>Jan 2014</td>\n      <td>Accepted</td>\n      <td>...</td>\n      <td>NaN</td>\n      <td>NaN</td>\n      <td>NaN</td>\n      <td>NaN</td>\n      <td>NaN</td>\n      <td>NaN</td>\n      <td>NaN</td>\n      <td>NaN</td>\n      <td>NaN</td>\n      <td>NaN</td>\n    </tr>\n    <tr>\n      <th>95943</th>\n      <td>48243447</td>\n      <td>Karnataka</td>\n      <td>HR 61</td>\n      <td>Davanagere</td>\n      <td>RURAL</td>\n      <td>HR 61_RURAL_R</td>\n      <td>PSU_ID_9810</td>\n      <td>Mar 2014</td>\n      <td>Jan 2014</td>\n      <td>Accepted</td>\n      <td>...</td>\n      <td>NaN</td>\n      <td>NaN</td>\n      <td>NaN</td>\n      <td>NaN</td>\n      <td>NaN</td>\n      <td>NaN</td>\n      <td>NaN</td>\n      <td>NaN</td>\n      <td>NaN</td>\n      <td>NaN</td>\n    </tr>\n    <tr>\n      <th>95944</th>\n      <td>42346033</td>\n      <td>Karnataka</td>\n      <td>HR 61</td>\n      <td>Davanagere</td>\n      <td>RURAL</td>\n      <td>HR 61_RURAL_R</td>\n      <td>PSU_ID_9810</td>\n      <td>Mar 2014</td>\n      <td>Jan 2014</td>\n      <td>Accepted</td>\n      <td>...</td>\n      <td>NaN</td>\n      <td>NaN</td>\n      <td>NaN</td>\n      <td>NaN</td>\n      <td>NaN</td>\n      <td>NaN</td>\n      <td>NaN</td>\n      <td>NaN</td>\n      <td>NaN</td>\n      <td>NaN</td>\n    </tr>\n    <tr>\n      <th>95945</th>\n      <td>39923120</td>\n      <td>Karnataka</td>\n      <td>HR 61</td>\n      <td>Davanagere</td>\n      <td>RURAL</td>\n      <td>HR 61_RURAL_R</td>\n      <td>PSU_ID_9810</td>\n      <td>Mar 2014</td>\n      <td>Jan 2014</td>\n      <td>Accepted</td>\n      <td>...</td>\n      <td>NaN</td>\n      <td>NaN</td>\n      <td>NaN</td>\n      <td>NaN</td>\n      <td>NaN</td>\n      <td>NaN</td>\n      <td>NaN</td>\n      <td>NaN</td>\n      <td>NaN</td>\n      <td>NaN</td>\n    </tr>\n  </tbody>\n</table>\n<p>5 rows × 41 columns</p>\n</div>"
     },
     "execution_count": 4,
     "metadata": {},
     "output_type": "execute_result"
    }
   ],
   "source": [
    "df.head()"
   ],
   "metadata": {
    "collapsed": false,
    "ExecuteTime": {
     "start_time": "2023-05-13T17:15:53.803258Z",
     "end_time": "2023-05-13T17:15:53.862074Z"
    }
   }
  },
  {
   "cell_type": "code",
   "execution_count": 5,
   "outputs": [],
   "source": [
    "# Save the DataFrame as pickle\n",
    "df.to_pickle(\"household_income_davanagere.pickle\")"
   ],
   "metadata": {
    "collapsed": false,
    "ExecuteTime": {
     "start_time": "2023-05-13T17:15:53.846950Z",
     "end_time": "2023-05-13T17:15:53.862074Z"
    }
   }
  },
  {
   "cell_type": "code",
   "execution_count": 6,
   "outputs": [],
   "source": [
    "# Read files to a single dataframe. Only select STATE Karnataka and DISTRICT Davanagere. Add the date in the filename as column.\n",
    "df2 = pd.DataFrame()\n",
    "for filename in filenames:\n",
    "    temp_df = pd.read_csv(filename)\n",
    "    temp_df = temp_df[(temp_df[\"STATE\"] == \"Karnataka\") & (temp_df[\"REGION_TYPE\"] == \"RURAL\")]\n",
    "    temp_df[\"date_collected\"] = filename.split(\"_\")[2]\n",
    "    df2 = pd.concat([df2, temp_df])"
   ],
   "metadata": {
    "collapsed": false,
    "ExecuteTime": {
     "start_time": "2023-05-13T17:15:53.862074Z",
     "end_time": "2023-05-13T17:18:12.028743Z"
    }
   }
  },
  {
   "cell_type": "code",
   "execution_count": 7,
   "outputs": [],
   "source": [
    "# Save the DataFrame as pickle\n",
    "df2.to_pickle(\"household_income_karnataka_rural.pickle\")"
   ],
   "metadata": {
    "collapsed": false,
    "ExecuteTime": {
     "start_time": "2023-05-13T17:18:12.028743Z",
     "end_time": "2023-05-13T17:18:12.533669Z"
    }
   }
  }
 ],
 "metadata": {
  "kernelspec": {
   "display_name": "Python 3",
   "language": "python",
   "name": "python3"
  },
  "language_info": {
   "codemirror_mode": {
    "name": "ipython",
    "version": 2
   },
   "file_extension": ".py",
   "mimetype": "text/x-python",
   "name": "python",
   "nbconvert_exporter": "python",
   "pygments_lexer": "ipython2",
   "version": "2.7.6"
  }
 },
 "nbformat": 4,
 "nbformat_minor": 0
}

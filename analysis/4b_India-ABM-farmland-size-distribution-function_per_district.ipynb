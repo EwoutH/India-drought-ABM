{
 "cells": [
  {
   "cell_type": "markdown",
   "source": [
    "## Estimate lognormal distribution of farm sizes"
   ],
   "metadata": {
    "collapsed": false
   }
  },
  {
   "cell_type": "markdown",
   "source": [
    "Classification of farmers based on land holdings is as follows:\n",
    "Marginal: < 1 ha\n",
    "Small: 1-2 ha\n",
    "Semi-medium: 2-4 ha\n",
    "Medium: 4-10 ha\n",
    "Large: >10 ha"
   ],
   "metadata": {
    "collapsed": false
   }
  },
  {
   "cell_type": "code",
   "execution_count": 1,
   "outputs": [],
   "source": [
    "from scipy.stats import lognorm\n",
    "import numpy as np\n",
    "import matplotlib.pyplot as plt\n",
    "import pandas as pd"
   ],
   "metadata": {
    "collapsed": false,
    "ExecuteTime": {
     "end_time": "2023-06-09T12:00:57.099293100Z",
     "start_time": "2023-06-09T12:00:54.651335100Z"
    }
   }
  },
  {
   "cell_type": "code",
   "execution_count": 2,
   "outputs": [
    {
     "data": {
      "text/plain": "['Bellary', 'Chitradurga', 'Davanagere', 'Gadag', 'Haveri']"
     },
     "execution_count": 2,
     "metadata": {},
     "output_type": "execute_result"
    }
   ],
   "source": [
    "# Load in the original data\n",
    "df_orig = pd.read_pickle(\"../Data/Farmland/farmland_clean_per_district.pkl\")\n",
    "\n",
    "# Create a list with district names\n",
    "districts = df_orig.index.levels[0].tolist()\n",
    "districts"
   ],
   "metadata": {
    "collapsed": false,
    "ExecuteTime": {
     "end_time": "2023-06-09T12:00:57.108998200Z",
     "start_time": "2023-06-09T12:00:57.100215Z"
    }
   }
  },
  {
   "cell_type": "code",
   "execution_count": 3,
   "metadata": {
    "collapsed": true,
    "ExecuteTime": {
     "end_time": "2023-06-09T12:00:57.181403400Z",
     "start_time": "2023-06-09T12:00:57.108998200Z"
    }
   },
   "outputs": [
    {
     "data": {
      "text/plain": "             Number           Area  Area per farmer\nMarginal     111104   64348.714763         0.579176\nSmall         80260  115151.391024         1.434730\nSemi medium   55433  153931.019903         2.776884\nMedium        25086  144778.693185         5.771294\nLarge          3267   47083.093954        14.411721",
      "text/html": "<div>\n<style scoped>\n    .dataframe tbody tr th:only-of-type {\n        vertical-align: middle;\n    }\n\n    .dataframe tbody tr th {\n        vertical-align: top;\n    }\n\n    .dataframe thead th {\n        text-align: right;\n    }\n</style>\n<table border=\"1\" class=\"dataframe\">\n  <thead>\n    <tr style=\"text-align: right;\">\n      <th></th>\n      <th>Number</th>\n      <th>Area</th>\n      <th>Area per farmer</th>\n    </tr>\n  </thead>\n  <tbody>\n    <tr>\n      <th>Marginal</th>\n      <td>111104</td>\n      <td>64348.714763</td>\n      <td>0.579176</td>\n    </tr>\n    <tr>\n      <th>Small</th>\n      <td>80260</td>\n      <td>115151.391024</td>\n      <td>1.434730</td>\n    </tr>\n    <tr>\n      <th>Semi medium</th>\n      <td>55433</td>\n      <td>153931.019903</td>\n      <td>2.776884</td>\n    </tr>\n    <tr>\n      <th>Medium</th>\n      <td>25086</td>\n      <td>144778.693185</td>\n      <td>5.771294</td>\n    </tr>\n    <tr>\n      <th>Large</th>\n      <td>3267</td>\n      <td>47083.093954</td>\n      <td>14.411721</td>\n    </tr>\n  </tbody>\n</table>\n</div>"
     },
     "execution_count": 3,
     "metadata": {},
     "output_type": "execute_result"
    }
   ],
   "source": [
    "# Select the district from the dataframe\n",
    "district = districts[0]\n",
    "df_district = df_orig.loc[district]\n",
    "sample_size = int(df_district[\"Number\"].sum())\n",
    "\n",
    "# Define the shape of the distribution\n",
    "# The parameters can be adjusted based on the characteristics of your specific data\n",
    "shape, loc, scale = 0.92, 0, 1.25\n",
    "\n",
    "# Draw random samples from the distribution for each farmer\n",
    "farm_sizes = lognorm.rvs(shape, loc, scale, size=sample_size)\n",
    "\n",
    "# Cap farm sizes at 200 ha\n",
    "farm_sizes = np.minimum(farm_sizes, 1000)\n",
    "\n",
    "# Create a list of classes\n",
    "classes = ['Marginal', 'Small', 'Semi medium', 'Medium', 'Large']\n",
    "\n",
    "# Determine the number of farmers in each class\n",
    "class_counts = np.histogram(farm_sizes, bins=[0, 1, 2, 4, 10, 200])[0]\n",
    "\n",
    "# Determine the total area of land in each class. Take the sum of the farm sizes in each class.\n",
    "class_areas = np.histogram(farm_sizes, bins=[0, 1, 2, 4, 10, 200], weights=farm_sizes)[0]\n",
    "\n",
    "# Determine the average farm size in each class\n",
    "class_sizes = class_areas / class_counts\n",
    "\n",
    "# Create a dataframe with the results\n",
    "df = pd.DataFrame({'Number': class_counts, 'Area': class_areas, 'Area per farmer': class_sizes}, index=classes)\n",
    "df"
   ]
  },
  {
   "cell_type": "code",
   "execution_count": 4,
   "outputs": [
    {
     "name": "stdout",
     "output_type": "stream",
     "text": [
      "Average relative difference: 26.38%\n",
      "Number             0.347983\n",
      "Area               0.319055\n",
      "Area per farmer    0.124262\n",
      "dtype: float64\n"
     ]
    },
    {
     "data": {
      "text/plain": "               Number      Area  Area per farmer\nSize Class                                      \nMarginal     105050.0   58680.0         0.558591\nSmall         82810.0  118360.0         1.429296\nSemi medium   56560.0  153170.0         2.708098\nMedium        26760.0  152630.0         5.703662\nLarge          3970.0   54680.0        13.773300",
      "text/html": "<div>\n<style scoped>\n    .dataframe tbody tr th:only-of-type {\n        vertical-align: middle;\n    }\n\n    .dataframe tbody tr th {\n        vertical-align: top;\n    }\n\n    .dataframe thead th {\n        text-align: right;\n    }\n</style>\n<table border=\"1\" class=\"dataframe\">\n  <thead>\n    <tr style=\"text-align: right;\">\n      <th></th>\n      <th>Number</th>\n      <th>Area</th>\n      <th>Area per farmer</th>\n    </tr>\n    <tr>\n      <th>Size Class</th>\n      <th></th>\n      <th></th>\n      <th></th>\n    </tr>\n  </thead>\n  <tbody>\n    <tr>\n      <th>Marginal</th>\n      <td>105050.0</td>\n      <td>58680.0</td>\n      <td>0.558591</td>\n    </tr>\n    <tr>\n      <th>Small</th>\n      <td>82810.0</td>\n      <td>118360.0</td>\n      <td>1.429296</td>\n    </tr>\n    <tr>\n      <th>Semi medium</th>\n      <td>56560.0</td>\n      <td>153170.0</td>\n      <td>2.708098</td>\n    </tr>\n    <tr>\n      <th>Medium</th>\n      <td>26760.0</td>\n      <td>152630.0</td>\n      <td>5.703662</td>\n    </tr>\n    <tr>\n      <th>Large</th>\n      <td>3970.0</td>\n      <td>54680.0</td>\n      <td>13.773300</td>\n    </tr>\n  </tbody>\n</table>\n</div>"
     },
     "execution_count": 4,
     "metadata": {},
     "output_type": "execute_result"
    }
   ],
   "source": [
    "# Calculate the relative difference between the two dataframes.\n",
    "df_rel = (df - df_district) / df_district\n",
    "\n",
    "# Take  the absolute sum of all relative differences\n",
    "sums = df_rel.abs().sum()\n",
    "print(f\"Average relative difference: {sums.mean():.2%}\\n{sums}\")\n",
    "\n",
    "df_district"
   ],
   "metadata": {
    "collapsed": false,
    "ExecuteTime": {
     "end_time": "2023-06-09T12:00:57.188077800Z",
     "start_time": "2023-06-09T12:00:57.173179900Z"
    }
   }
  },
  {
   "cell_type": "code",
   "execution_count": 5,
   "outputs": [
    {
     "data": {
      "text/plain": "<Figure size 640x480 with 1 Axes>",
      "image/png": "[encoded data removed]"
     },
     "metadata": {},
     "output_type": "display_data"
    }
   ],
   "source": [
    "# Create a histogram of the farm sizes. Limit the x-axis to 30 ha.\n",
    "plt.hist(farm_sizes, bins=1000, range=(0, 20))\n",
    "plt.show()"
   ],
   "metadata": {
    "collapsed": false,
    "ExecuteTime": {
     "end_time": "2023-06-09T12:00:57.918858200Z",
     "start_time": "2023-06-09T12:00:57.183081Z"
    }
   }
  },
  {
   "cell_type": "code",
   "execution_count": 6,
   "outputs": [
    {
     "data": {
      "text/plain": "               Number      Area  Area per farmer\nMarginal     462990.0  251240.0         0.542647\nSmall        398200.0  565310.0         1.419663\nSemi medium  250050.0  669320.0         2.676745\nMedium       104880.0  595010.0         5.673246\nLarge         14110.0  198310.0        14.054571",
      "text/html": "<div>\n<style scoped>\n    .dataframe tbody tr th:only-of-type {\n        vertical-align: middle;\n    }\n\n    .dataframe tbody tr th {\n        vertical-align: top;\n    }\n\n    .dataframe thead th {\n        text-align: right;\n    }\n</style>\n<table border=\"1\" class=\"dataframe\">\n  <thead>\n    <tr style=\"text-align: right;\">\n      <th></th>\n      <th>Number</th>\n      <th>Area</th>\n      <th>Area per farmer</th>\n    </tr>\n  </thead>\n  <tbody>\n    <tr>\n      <th>Marginal</th>\n      <td>462990.0</td>\n      <td>251240.0</td>\n      <td>0.542647</td>\n    </tr>\n    <tr>\n      <th>Small</th>\n      <td>398200.0</td>\n      <td>565310.0</td>\n      <td>1.419663</td>\n    </tr>\n    <tr>\n      <th>Semi medium</th>\n      <td>250050.0</td>\n      <td>669320.0</td>\n      <td>2.676745</td>\n    </tr>\n    <tr>\n      <th>Medium</th>\n      <td>104880.0</td>\n      <td>595010.0</td>\n      <td>5.673246</td>\n    </tr>\n    <tr>\n      <th>Large</th>\n      <td>14110.0</td>\n      <td>198310.0</td>\n      <td>14.054571</td>\n    </tr>\n  </tbody>\n</table>\n</div>"
     },
     "execution_count": 6,
     "metadata": {},
     "output_type": "execute_result"
    }
   ],
   "source": [
    "# Load in the original data\n",
    "df2 = pd.read_csv(\"../Data/Farmland/farmland_clean.csv\", index_col=0)\n",
    "df2 = df2.drop(df2.tail(1).index)\n",
    "df2"
   ],
   "metadata": {
    "collapsed": false,
    "ExecuteTime": {
     "end_time": "2023-06-09T12:00:57.930717700Z",
     "start_time": "2023-06-09T12:00:57.919936100Z"
    }
   }
  },
  {
   "cell_type": "code",
   "execution_count": 7,
   "outputs": [
    {
     "data": {
      "text/plain": "               Number      Area  Area per farmer\nMarginal    -0.760029 -0.743876         0.067316\nSmall       -0.798443 -0.796304         0.010612\nSemi medium -0.778312 -0.770019         0.037411\nMedium      -0.760812 -0.756679         0.017283\nLarge       -0.768462 -0.762578         0.025412",
      "text/html": "<div>\n<style scoped>\n    .dataframe tbody tr th:only-of-type {\n        vertical-align: middle;\n    }\n\n    .dataframe tbody tr th {\n        vertical-align: top;\n    }\n\n    .dataframe thead th {\n        text-align: right;\n    }\n</style>\n<table border=\"1\" class=\"dataframe\">\n  <thead>\n    <tr style=\"text-align: right;\">\n      <th></th>\n      <th>Number</th>\n      <th>Area</th>\n      <th>Area per farmer</th>\n    </tr>\n  </thead>\n  <tbody>\n    <tr>\n      <th>Marginal</th>\n      <td>-0.760029</td>\n      <td>-0.743876</td>\n      <td>0.067316</td>\n    </tr>\n    <tr>\n      <th>Small</th>\n      <td>-0.798443</td>\n      <td>-0.796304</td>\n      <td>0.010612</td>\n    </tr>\n    <tr>\n      <th>Semi medium</th>\n      <td>-0.778312</td>\n      <td>-0.770019</td>\n      <td>0.037411</td>\n    </tr>\n    <tr>\n      <th>Medium</th>\n      <td>-0.760812</td>\n      <td>-0.756679</td>\n      <td>0.017283</td>\n    </tr>\n    <tr>\n      <th>Large</th>\n      <td>-0.768462</td>\n      <td>-0.762578</td>\n      <td>0.025412</td>\n    </tr>\n  </tbody>\n</table>\n</div>"
     },
     "execution_count": 7,
     "metadata": {},
     "output_type": "execute_result"
    }
   ],
   "source": [
    "# Calculate the relative difference between the two dataframes.\n",
    "df_rel = (df - df2) / df2\n",
    "df_rel"
   ],
   "metadata": {
    "collapsed": false,
    "ExecuteTime": {
     "end_time": "2023-06-09T12:00:57.939700200Z",
     "start_time": "2023-06-09T12:00:57.930717700Z"
    }
   }
  },
  {
   "cell_type": "code",
   "execution_count": 8,
   "outputs": [
    {
     "name": "stdout",
     "output_type": "stream",
     "text": [
      "Average relative difference: 261.78%\n",
      "Number             3.866059\n",
      "Area               3.829455\n",
      "Area per farmer    0.158034\n",
      "dtype: float64\n"
     ]
    }
   ],
   "source": [
    "# Take  the absolute sum of all relative differences\n",
    "sums = df_rel.abs().sum()\n",
    "print(f\"Average relative difference: {sums.mean():.2%}\\n{sums}\")"
   ],
   "metadata": {
    "collapsed": false,
    "ExecuteTime": {
     "end_time": "2023-06-09T12:00:57.943527600Z",
     "start_time": "2023-06-09T12:00:57.938638600Z"
    }
   }
  }
 ],
 "metadata": {
  "kernelspec": {
   "display_name": "Python 3",
   "language": "python",
   "name": "python3"
  },
  "language_info": {
   "codemirror_mode": {
    "name": "ipython",
    "version": 2
   },
   "file_extension": ".py",
   "mimetype": "text/x-python",
   "name": "python",
   "nbconvert_exporter": "python",
   "pygments_lexer": "ipython2",
   "version": "2.7.6"
  }
 },
 "nbformat": 4,
 "nbformat_minor": 0
}

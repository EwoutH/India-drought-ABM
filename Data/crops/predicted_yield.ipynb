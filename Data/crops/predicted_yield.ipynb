{
 "cells": [
  {
   "cell_type": "code",
   "execution_count": 1,
   "metadata": {
    "collapsed": true,
    "ExecuteTime": {
     "end_time": "2023-06-27T11:25:15.733259Z",
     "start_time": "2023-06-27T11:25:15.277666Z"
    }
   },
   "outputs": [],
   "source": [
    "import pandas as pd\n",
    "import matplotlib.pyplot as plt\n",
    "import seaborn as sns\n",
    "import statsmodels.api as sm\n",
    "import numpy as np\n",
    "from scipy import stats\n",
    "import pickle"
   ]
  },
  {
   "cell_type": "code",
   "execution_count": 2,
   "outputs": [
    {
     "data": {
      "text/plain": "            Crop           Variable    Intercept     Slope  R2 Score\n0           RICE  YIELD (Kg per ha)  2677.443108  0.595553  0.116019\n1        SORGHUM  YIELD (Kg per ha)   570.044222  0.831745  0.315128\n2          MAIZE  YIELD (Kg per ha)  1937.993751  1.505714  0.179583\n3  FINGER MILLET  YIELD (Kg per ha)   569.702131  1.137997  0.354201\n4       CHICKPEA  YIELD (Kg per ha)   178.129712  0.431115  0.294147",
      "text/html": "<div>\n<style scoped>\n    .dataframe tbody tr th:only-of-type {\n        vertical-align: middle;\n    }\n\n    .dataframe tbody tr th {\n        vertical-align: top;\n    }\n\n    .dataframe thead th {\n        text-align: right;\n    }\n</style>\n<table border=\"1\" class=\"dataframe\">\n  <thead>\n    <tr style=\"text-align: right;\">\n      <th></th>\n      <th>Crop</th>\n      <th>Variable</th>\n      <th>Intercept</th>\n      <th>Slope</th>\n      <th>R2 Score</th>\n    </tr>\n  </thead>\n  <tbody>\n    <tr>\n      <th>0</th>\n      <td>RICE</td>\n      <td>YIELD (Kg per ha)</td>\n      <td>2677.443108</td>\n      <td>0.595553</td>\n      <td>0.116019</td>\n    </tr>\n    <tr>\n      <th>1</th>\n      <td>SORGHUM</td>\n      <td>YIELD (Kg per ha)</td>\n      <td>570.044222</td>\n      <td>0.831745</td>\n      <td>0.315128</td>\n    </tr>\n    <tr>\n      <th>2</th>\n      <td>MAIZE</td>\n      <td>YIELD (Kg per ha)</td>\n      <td>1937.993751</td>\n      <td>1.505714</td>\n      <td>0.179583</td>\n    </tr>\n    <tr>\n      <th>3</th>\n      <td>FINGER MILLET</td>\n      <td>YIELD (Kg per ha)</td>\n      <td>569.702131</td>\n      <td>1.137997</td>\n      <td>0.354201</td>\n    </tr>\n    <tr>\n      <th>4</th>\n      <td>CHICKPEA</td>\n      <td>YIELD (Kg per ha)</td>\n      <td>178.129712</td>\n      <td>0.431115</td>\n      <td>0.294147</td>\n    </tr>\n  </tbody>\n</table>\n</div>"
     },
     "execution_count": 2,
     "metadata": {},
     "output_type": "execute_result"
    }
   ],
   "source": [
    "lookup_table = pd.read_pickle('venv/pickles/lookup_table_yield.pkl')\n",
    "lookup_table.head()"
   ],
   "metadata": {
    "collapsed": false,
    "ExecuteTime": {
     "end_time": "2023-06-27T11:26:03.486151Z",
     "start_time": "2023-06-27T11:26:03.367323Z"
    }
   }
  },
  {
   "cell_type": "code",
   "execution_count": 4,
   "outputs": [
    {
     "data": {
      "text/plain": "{'RICE': 0     -32.053722\n 1    -489.305353\n 2    -231.424589\n 3    -248.630062\n 4    -138.436607\n 5      46.155042\n 6     -30.870045\n 7     206.878537\n 8    -146.380043\n 9     -93.274996\n 10     27.396782\n 11   -446.219166\n 12   -635.182243\n 13     99.692335\n 14    296.468631\n 15     43.760001\n 16     83.425027\n 17    172.089304\n 18    167.119362\n 19   -259.776447\n 20     22.997112\n 21    277.236110\n 22    -55.660584\n 23    373.129956\n 24    181.305005\n 25    170.263629\n 26    193.126143\n 27    446.170882\n dtype: float64,\n 'SORGHUM': 0    -106.423905\n 1      40.211523\n 2    -138.621517\n 3      15.342035\n 4      42.062284\n 5     291.707053\n 6     420.611995\n 7     300.128202\n 8     181.909081\n 9     -34.195765\n 10     69.619354\n 11    -57.450282\n 12   -337.192879\n 13   -214.745925\n 14    -35.970409\n 15     29.150586\n 16   -263.653756\n 17    209.554009\n 18    186.794923\n 19   -310.502492\n 20    113.190656\n 21    153.181688\n 22   -178.594577\n 23     41.186151\n 24    -54.233077\n 25    -47.350176\n 26   -305.192672\n 27    -10.522108\n dtype: float64,\n 'MAIZE': 0     -107.313644\n 1      301.036593\n 2      223.071503\n 3      296.447174\n 4      452.935495\n 5      816.417286\n 6      571.428422\n 7       32.778083\n 8      578.478282\n 9       56.469337\n 10     518.889796\n 11    -149.557451\n 12    -907.306763\n 13    -656.695695\n 14     -71.544891\n 15    -445.220951\n 16    -493.579006\n 17    -212.625088\n 18    -226.032590\n 19    -928.543805\n 20     322.260399\n 21     276.315812\n 22    -435.728787\n 23     156.647416\n 24    -379.947130\n 25    -234.631474\n 26    -508.868518\n 27    1154.420197\n dtype: float64,\n 'FINGER MILLET': 0    -485.501320\n 1    -220.335723\n 2    -129.924894\n 3     -62.234967\n 4      85.318493\n 5     153.856976\n 6     234.635912\n 7    -210.430148\n 8     283.615696\n 9      27.694328\n 10    534.066896\n 11    288.306938\n 12   -228.987334\n 13     53.160017\n 14    150.204354\n 15   -253.137750\n 16   -315.206280\n 17    -74.196993\n 18   -118.000924\n 19   -176.472732\n 20    135.129282\n 21     99.944399\n 22   -123.833161\n 23    -45.813569\n 24    -38.916314\n 25    226.536161\n 26   -268.128523\n 27    478.651181\n dtype: float64,\n 'CHICKPEA': 0    -190.953754\n 1    -135.033863\n 2     -66.672018\n 3     -76.545917\n 4     101.982946\n 5      44.959954\n 6      22.649054\n 7       6.362835\n 8     106.334715\n 9      -4.302831\n 10    132.164143\n 11     21.963247\n 12    -93.432186\n 13    -14.044176\n 14     83.055227\n 15      4.967802\n 16   -124.451496\n 17    -27.154391\n 18    133.331191\n 19   -154.127291\n 20     10.995351\n 21     -3.834449\n 22     96.157976\n 23    211.639278\n 24     32.766499\n 25     10.377948\n 26   -227.627229\n 27     98.471435\n dtype: float64,\n 'PIGEONPEA': 0    -133.945799\n 1      99.075858\n 2     -18.097705\n 3     -53.052242\n 4      29.765599\n 5    -155.401594\n 6     -72.495920\n 7     -74.272376\n 8    -192.823670\n 9     -57.746218\n 10    -26.416156\n 11     85.060883\n 12    -37.790099\n 13     32.878699\n 14     99.531924\n 15   -119.717903\n 16      8.282684\n 17     73.938286\n 18     59.843719\n 19   -190.660473\n 20     -7.450024\n 21    102.972200\n 22    -11.255219\n 23    102.012722\n 24     81.041000\n 25    126.236285\n 26     22.976730\n 27    227.508811\n dtype: float64,\n 'GROUNDNUT': 0     -85.420807\n 1     143.592034\n 2     231.543323\n 3     135.710620\n 4      71.354042\n 5     245.601810\n 6     214.686456\n 7     -18.126979\n 8     299.072068\n 9     -20.851615\n 10    207.337695\n 11    -35.957580\n 12   -107.261943\n 13   -145.781927\n 14    -32.959520\n 15   -312.317126\n 16   -397.858393\n 17    -69.598124\n 18   -357.174398\n 19   -357.153794\n 20     53.358133\n 21     54.616776\n 22    -40.721228\n 23    150.744241\n 24    -40.468676\n 25    -23.265254\n 26   -174.492659\n 27    411.792826\n dtype: float64}"
     },
     "execution_count": 4,
     "metadata": {},
     "output_type": "execute_result"
    }
   ],
   "source": [
    "residuals = pd.read_pickle('venv/pickles/yield_residuals_dict.pkl')\n",
    "residuals"
   ],
   "metadata": {
    "collapsed": false,
    "ExecuteTime": {
     "end_time": "2023-06-27T11:26:42.078951Z",
     "start_time": "2023-06-27T11:26:41.982173Z"
    }
   }
  },
  {
   "cell_type": "code",
   "execution_count": 10,
   "outputs": [],
   "source": [
    "def predicted_yield(current_crop, rainfall, residuals_dict):\n",
    "    # Extract the regression parameters for the current crop from the lookup table\n",
    "    intercept = lookup_table.loc[lookup_table['Crop'] == current_crop, 'Intercept'].values[0]\n",
    "    slope = lookup_table.loc[lookup_table['Crop'] == current_crop, 'Slope'].values[0]\n",
    "\n",
    "    # Predict the yield\n",
    "    yield_prediction = intercept + slope * rainfall\n",
    "\n",
    "    # If the crop has residuals stored, add a random residual to the prediction\n",
    "    if current_crop in residuals:\n",
    "        yield_prediction += np.random.choice(residuals[current_crop])\n",
    "\n",
    "    return yield_prediction"
   ],
   "metadata": {
    "collapsed": false,
    "ExecuteTime": {
     "end_time": "2023-06-27T11:32:08.801122Z",
     "start_time": "2023-06-27T11:32:08.699607Z"
    }
   }
  },
  {
   "cell_type": "code",
   "execution_count": 16,
   "outputs": [
    {
     "name": "stdout",
     "output_type": "stream",
     "text": [
      "Predicted yield for RICE with rainfall 400 mm: 2943.0610028550577\n"
     ]
    }
   ],
   "source": [
    "current_crop = 'RICE'\n",
    "rainfall = 400\n",
    "prediction = predicted_yield(crop, rainfall, residuals)\n",
    "print(f\"Predicted yield for {crop} with rainfall {rainfall} mm: {prediction}\")\n"
   ],
   "metadata": {
    "collapsed": false,
    "ExecuteTime": {
     "end_time": "2023-06-27T11:32:34.395427Z",
     "start_time": "2023-06-27T11:32:34.385050Z"
    }
   }
  },
  {
   "cell_type": "code",
   "execution_count": null,
   "outputs": [],
   "source": [],
   "metadata": {
    "collapsed": false
   }
  }
 ],
 "metadata": {
  "kernelspec": {
   "display_name": "Python 3",
   "language": "python",
   "name": "python3"
  },
  "language_info": {
   "codemirror_mode": {
    "name": "ipython",
    "version": 2
   },
   "file_extension": ".py",
   "mimetype": "text/x-python",
   "name": "python",
   "nbconvert_exporter": "python",
   "pygments_lexer": "ipython2",
   "version": "2.7.6"
  }
 },
 "nbformat": 4,
 "nbformat_minor": 0
}

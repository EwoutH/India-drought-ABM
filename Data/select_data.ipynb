{
 "cells": [
  {
   "cell_type": "code",
   "execution_count": 11,
   "metadata": {
    "collapsed": true,
    "ExecuteTime": {
     "end_time": "2023-06-13T06:20:11.838395Z",
     "start_time": "2023-06-13T06:20:11.823789Z"
    }
   },
   "outputs": [],
   "source": [
    "import glob\n",
    "import pandas as pd"
   ]
  },
  {
   "cell_type": "code",
   "execution_count": 13,
   "outputs": [
    {
     "name": "stdout",
     "output_type": "stream",
     "text": [
      "Type of filenames: <class 'list'>\n",
      "Number of files: 107\n",
      "First 3 files: ['/Users/niteeshshanbog/Downloads/2023-05-26_07-37-30/pythonProject/venv/data/household_income_20201031_MS_rev.csv', '/Users/niteeshshanbog/Downloads/2023-05-26_07-37-30/pythonProject/venv/data/household_income_20160430_MS_rev.csv', '/Users/niteeshshanbog/Downloads/2023-05-26_07-37-30/pythonProject/venv/data/household_income_20220831_MS_rev.csv']\n"
     ]
    }
   ],
   "source": [
    "subfolder = \"Household income\"\n",
    "# Decapitalize and replace spaces with underscores\n",
    "name = subfolder.lower().replace(\" \", \"_\")\n",
    "\n",
    "path = \"/Users/niteeshshanbog/Downloads/2023-05-26_07-37-30/pythonProject/venv/data/*.csv\"\n",
    "filenames = glob.glob(path)\n",
    "print(f\"Type of filenames: {type(filenames)}\")\n",
    "print(f\"Number of files: {len(filenames)}\")\n",
    "print(f\"First 3 files: {filenames[:3]}\")"
   ],
   "metadata": {
    "collapsed": false,
    "ExecuteTime": {
     "end_time": "2023-06-13T06:22:07.133868Z",
     "start_time": "2023-06-13T06:22:07.045386Z"
    }
   }
  },
  {
   "cell_type": "code",
   "execution_count": 15,
   "outputs": [],
   "source": [
    "df1 = pd.DataFrame()\n",
    "\n",
    "\n",
    "# List of districts you are interested in\n",
    "districts = [\"Davanagere\", \"Bellary\", \"Chitradurga\", \"Gadag\", \"Haveri\"]\n",
    "occupation = [\"Agricultural Labourers\", \"Organised Farmers\", \"Small/Marginal Farmers\"]\n",
    "\n",
    "for filename in filenames:\n",
    "    temp_df = pd.read_csv(filename)\n",
    "    temp_df1 = temp_df[(temp_df[\"STATE\"] == \"Karnataka\") & (temp_df[\"DISTRICT\"].isin(districts)) & (temp_df[\"REGION_TYPE\"] == \"RURAL\") & (temp_df[\"OCCUPATION_GROUP\"].isin(occupation))].copy()\n",
    "    temp_df1[\"date_collected\"] = filename.split(\"_\")[2]\n",
    "    df1 = pd.concat([df1, temp_df1])\n"
   ],
   "metadata": {
    "collapsed": false,
    "ExecuteTime": {
     "end_time": "2023-06-13T06:43:13.054652Z",
     "start_time": "2023-06-13T06:42:02.205160Z"
    }
   }
  },
  {
   "cell_type": "code",
   "execution_count": 20,
   "outputs": [
    {
     "data": {
      "text/plain": "          HH_ID      STATE     HR     DISTRICT REGION_TYPE        STRATUM  \\\n95278  94762800  Karnataka  HR 59  Chitradurga       RURAL  HR 59_RURAL_R   \n95286  60248833  Karnataka  HR 59  Chitradurga       RURAL  HR 59_RURAL_R   \n95287  53631934  Karnataka  HR 59  Chitradurga       RURAL  HR 59_RURAL_R   \n95288  62962649  Karnataka  HR 59  Chitradurga       RURAL  HR 59_RURAL_R   \n95294  15094346  Karnataka  HR 59  Chitradurga       RURAL  HR 59_RURAL_R   \n\n            PSU_ID MONTH_SLOT     MONTH RESPONSE_STATUS  ...  \\\n95278  PSU_ID_9714   Jan 2021  Oct 2020        Accepted  ...   \n95286  PSU_ID_9714   Jan 2021  Oct 2020        Accepted  ...   \n95287  PSU_ID_9714   Jan 2021  Oct 2020        Accepted  ...   \n95288  PSU_ID_9714   Jan 2021  Oct 2020        Accepted  ...   \n95294  PSU_ID_9715   Jan 2021  Oct 2020        Accepted  ...   \n\n      INCOME_OF_HOUSEHOLD_FROM_RENT INCOME_OF_HOUSEHOLD_FROM_SELF_PRODUCTION  \\\n95278                             0                                        0   \n95286                             0                                      395   \n95287                             0                                        0   \n95288                             0                                        0   \n95294                             0                                        0   \n\n       INCOME_OF_HOUSEHOLD_FROM_PRIVATE_TRANSFERS  \\\n95278                                           0   \n95286                                           0   \n95287                                           0   \n95288                                           0   \n95294                                           0   \n\n       INCOME_OF_HOUSEHOLD_FROM_GOVERNMENT_TRANSFERS  \\\n95278                                            0.0   \n95286                                            0.0   \n95287                                            0.0   \n95288                                            0.0   \n95294                                            0.0   \n\n       INCOME_OF_HOUSEHOLD_FROM_BUSINESS_PROFIT  \\\n95278                                     18000   \n95286                                         0   \n95287                                     22000   \n95288                                     20000   \n95294                                     25000   \n\n       INCOME_OF_HOUSEHOLD_FROM_SALE_OF_ASSET  \\\n95278                                     0.0   \n95286                                     0.0   \n95287                                     0.0   \n95288                                     0.0   \n95294                                     0.0   \n\n       INCOME_OF_HOUSEHOLD_FROM_GAMBLING  date_collected  \\\n95278                                0.0          income   \n95286                                0.0          income   \n95287                                0.0          income   \n95288                                0.0          income   \n95294                                0.0          income   \n\n      INCOME_OF_HOUSEHOLD_FROM_IN_KIND_TRANSFERS_FROM_GOVERNMENT  \\\n95278                                                NaN           \n95286                                                NaN           \n95287                                                NaN           \n95288                                                NaN           \n95294                                                NaN           \n\n      INCOME_OF_HOUSEHOLD_FROM_IN_KIND_TRANSFERS_FROM_NGO  \n95278                                                NaN   \n95286                                                NaN   \n95287                                                NaN   \n95288                                                NaN   \n95294                                                NaN   \n\n[5 rows x 41 columns]",
      "text/html": "<div>\n<style scoped>\n    .dataframe tbody tr th:only-of-type {\n        vertical-align: middle;\n    }\n\n    .dataframe tbody tr th {\n        vertical-align: top;\n    }\n\n    .dataframe thead th {\n        text-align: right;\n    }\n</style>\n<table border=\"1\" class=\"dataframe\">\n  <thead>\n    <tr style=\"text-align: right;\">\n      <th></th>\n      <th>HH_ID</th>\n      <th>STATE</th>\n      <th>HR</th>\n      <th>DISTRICT</th>\n      <th>REGION_TYPE</th>\n      <th>STRATUM</th>\n      <th>PSU_ID</th>\n      <th>MONTH_SLOT</th>\n      <th>MONTH</th>\n      <th>RESPONSE_STATUS</th>\n      <th>...</th>\n      <th>INCOME_OF_HOUSEHOLD_FROM_RENT</th>\n      <th>INCOME_OF_HOUSEHOLD_FROM_SELF_PRODUCTION</th>\n      <th>INCOME_OF_HOUSEHOLD_FROM_PRIVATE_TRANSFERS</th>\n      <th>INCOME_OF_HOUSEHOLD_FROM_GOVERNMENT_TRANSFERS</th>\n      <th>INCOME_OF_HOUSEHOLD_FROM_BUSINESS_PROFIT</th>\n      <th>INCOME_OF_HOUSEHOLD_FROM_SALE_OF_ASSET</th>\n      <th>INCOME_OF_HOUSEHOLD_FROM_GAMBLING</th>\n      <th>date_collected</th>\n      <th>INCOME_OF_HOUSEHOLD_FROM_IN_KIND_TRANSFERS_FROM_GOVERNMENT</th>\n      <th>INCOME_OF_HOUSEHOLD_FROM_IN_KIND_TRANSFERS_FROM_NGO</th>\n    </tr>\n  </thead>\n  <tbody>\n    <tr>\n      <th>95278</th>\n      <td>94762800</td>\n      <td>Karnataka</td>\n      <td>HR 59</td>\n      <td>Chitradurga</td>\n      <td>RURAL</td>\n      <td>HR 59_RURAL_R</td>\n      <td>PSU_ID_9714</td>\n      <td>Jan 2021</td>\n      <td>Oct 2020</td>\n      <td>Accepted</td>\n      <td>...</td>\n      <td>0</td>\n      <td>0</td>\n      <td>0</td>\n      <td>0.0</td>\n      <td>18000</td>\n      <td>0.0</td>\n      <td>0.0</td>\n      <td>income</td>\n      <td>NaN</td>\n      <td>NaN</td>\n    </tr>\n    <tr>\n      <th>95286</th>\n      <td>60248833</td>\n      <td>Karnataka</td>\n      <td>HR 59</td>\n      <td>Chitradurga</td>\n      <td>RURAL</td>\n      <td>HR 59_RURAL_R</td>\n      <td>PSU_ID_9714</td>\n      <td>Jan 2021</td>\n      <td>Oct 2020</td>\n      <td>Accepted</td>\n      <td>...</td>\n      <td>0</td>\n      <td>395</td>\n      <td>0</td>\n      <td>0.0</td>\n      <td>0</td>\n      <td>0.0</td>\n      <td>0.0</td>\n      <td>income</td>\n      <td>NaN</td>\n      <td>NaN</td>\n    </tr>\n    <tr>\n      <th>95287</th>\n      <td>53631934</td>\n      <td>Karnataka</td>\n      <td>HR 59</td>\n      <td>Chitradurga</td>\n      <td>RURAL</td>\n      <td>HR 59_RURAL_R</td>\n      <td>PSU_ID_9714</td>\n      <td>Jan 2021</td>\n      <td>Oct 2020</td>\n      <td>Accepted</td>\n      <td>...</td>\n      <td>0</td>\n      <td>0</td>\n      <td>0</td>\n      <td>0.0</td>\n      <td>22000</td>\n      <td>0.0</td>\n      <td>0.0</td>\n      <td>income</td>\n      <td>NaN</td>\n      <td>NaN</td>\n    </tr>\n    <tr>\n      <th>95288</th>\n      <td>62962649</td>\n      <td>Karnataka</td>\n      <td>HR 59</td>\n      <td>Chitradurga</td>\n      <td>RURAL</td>\n      <td>HR 59_RURAL_R</td>\n      <td>PSU_ID_9714</td>\n      <td>Jan 2021</td>\n      <td>Oct 2020</td>\n      <td>Accepted</td>\n      <td>...</td>\n      <td>0</td>\n      <td>0</td>\n      <td>0</td>\n      <td>0.0</td>\n      <td>20000</td>\n      <td>0.0</td>\n      <td>0.0</td>\n      <td>income</td>\n      <td>NaN</td>\n      <td>NaN</td>\n    </tr>\n    <tr>\n      <th>95294</th>\n      <td>15094346</td>\n      <td>Karnataka</td>\n      <td>HR 59</td>\n      <td>Chitradurga</td>\n      <td>RURAL</td>\n      <td>HR 59_RURAL_R</td>\n      <td>PSU_ID_9715</td>\n      <td>Jan 2021</td>\n      <td>Oct 2020</td>\n      <td>Accepted</td>\n      <td>...</td>\n      <td>0</td>\n      <td>0</td>\n      <td>0</td>\n      <td>0.0</td>\n      <td>25000</td>\n      <td>0.0</td>\n      <td>0.0</td>\n      <td>income</td>\n      <td>NaN</td>\n      <td>NaN</td>\n    </tr>\n  </tbody>\n</table>\n<p>5 rows × 41 columns</p>\n</div>"
     },
     "execution_count": 20,
     "metadata": {},
     "output_type": "execute_result"
    }
   ],
   "source": [
    "\n",
    "df1.head()"
   ],
   "metadata": {
    "collapsed": false,
    "ExecuteTime": {
     "end_time": "2023-06-13T06:46:06.041956Z",
     "start_time": "2023-06-13T06:46:05.780243Z"
    }
   }
  },
  {
   "cell_type": "code",
   "execution_count": 25,
   "outputs": [],
   "source": [
    "# Save the DataFrames as pickle\n",
    "df1.to_pickle(\"/Users/niteeshshanbog/Downloads/2023-05-26_07-37-30/pythonProject/venv/pickles/household_income_karnataka.pickle\")"
   ],
   "metadata": {
    "collapsed": false,
    "ExecuteTime": {
     "end_time": "2023-06-13T06:53:03.738907Z",
     "start_time": "2023-06-13T06:53:03.683285Z"
    }
   }
  },
  {
   "cell_type": "markdown",
   "source": [
    "**Adding consumption data**"
   ],
   "metadata": {
    "collapsed": false
   }
  },
  {
   "cell_type": "code",
   "execution_count": 26,
   "outputs": [
    {
     "name": "stdout",
     "output_type": "stream",
     "text": [
      "Type of filenames: <class 'list'>\n",
      "Number of files: 108\n",
      "First 3 files: ['venv/consumption_data/consumption_pyramids_20170430_MS_rev.csv', 'venv/consumption_data/consumption_pyramids_20211031_MS_rev.csv', 'venv/consumption_data/consumption_pyramids_20150930_MS_rev.csv']\n"
     ]
    }
   ],
   "source": [
    "subfolder = \"Consumption Pyramid\"\n",
    "# Decapitalize and replace spaces with underscores\n",
    "name = subfolder.lower().replace(\" \", \"_\")\n",
    "\n",
    "path = \"venv/consumption_data/*.csv\"\n",
    "filenames = glob.glob(path)\n",
    "print(f\"Type of filenames: {type(filenames)}\")\n",
    "print(f\"Number of files: {len(filenames)}\")\n",
    "print(f\"First 3 files: {filenames[:3]}\")"
   ],
   "metadata": {
    "collapsed": false,
    "ExecuteTime": {
     "end_time": "2023-06-13T09:00:00.611607Z",
     "start_time": "2023-06-13T09:00:00.571020Z"
    }
   }
  },
  {
   "cell_type": "code",
   "execution_count": 27,
   "outputs": [],
   "source": [
    "df2 = pd.DataFrame()\n",
    "\n",
    "\n",
    "# List of districts you are interested in\n",
    "districts = [\"Davanagere\", \"Bellary\", \"Chitradurga\", \"Gadag\", \"Haveri\"]\n",
    "occupation = [\"Agricultural Labourers\", \"Organised Farmers\", \"Small/Marginal Farmers\"]\n",
    "\n",
    "for filename in filenames:\n",
    "    temp_df = pd.read_csv(filename)\n",
    "    temp_df2 = temp_df[(temp_df[\"STATE\"] == \"Karnataka\") & (temp_df[\"DISTRICT\"].isin(districts)) & (temp_df[\"REGION_TYPE\"] == \"RURAL\") & (temp_df[\"OCCUPATION_GROUP\"].isin(occupation))].copy()\n",
    "    temp_df2[\"date_collected\"] = filename.split(\"_\")[2]\n",
    "    df2 = pd.concat([df2, temp_df2])"
   ],
   "metadata": {
    "collapsed": false,
    "ExecuteTime": {
     "end_time": "2023-06-13T09:06:04.263601Z",
     "start_time": "2023-06-13T09:01:28.285433Z"
    }
   }
  },
  {
   "cell_type": "code",
   "execution_count": 28,
   "outputs": [
    {
     "data": {
      "text/plain": "          HH_ID      STATE     HR     DISTRICT REGION_TYPE        STRATUM  \\\n90585  94762800  Karnataka  HR 59  Chitradurga       RURAL  HR 59_RURAL_R   \n90586  64280047  Karnataka  HR 59  Chitradurga       RURAL  HR 59_RURAL_R   \n90587  79586257  Karnataka  HR 59  Chitradurga       RURAL  HR 59_RURAL_R   \n90588  73429517  Karnataka  HR 59  Chitradurga       RURAL  HR 59_RURAL_R   \n90593  60248833  Karnataka  HR 59  Chitradurga       RURAL  HR 59_RURAL_R   \n\n            PSU_ID MONTH_SLOT     MONTH RESPONSE_STATUS  ...  \\\n90585  PSU_ID_9714   Jun 2017  Apr 2017        Accepted  ...   \n90586  PSU_ID_9714   Jun 2017  Apr 2017        Accepted  ...   \n90587  PSU_ID_9714   Jun 2017  Apr 2017        Accepted  ...   \n90588  PSU_ID_9714   Jun 2017  Apr 2017        Accepted  ...   \n90593  PSU_ID_9714   Jun 2017  Apr 2017        Accepted  ...   \n\n      MONTHLY_EXPENSE_ON_HEALTH_SERVICES MONTHLY_EXPENSE_ON_HEALTH_OTHERS  \\\n90585                                NaN                              NaN   \n90586                                NaN                              NaN   \n90587                                NaN                              NaN   \n90588                                NaN                              NaN   \n90593                                NaN                              NaN   \n\n       ADJ_MONTHLY_EXPENSE_ON_VEGETABLES_AND_FRUITS  \\\n90585                                           NaN   \n90586                                           NaN   \n90587                                           NaN   \n90588                                           NaN   \n90593                                           NaN   \n\n       MONTHLY_EXPENSE_ON_SPECTACLES_CONTACT_LENSES_AND_OTHER_MEDICAL_AIDS  \\\n90585                                                NaN                     \n90586                                                NaN                     \n90587                                                NaN                     \n90588                                                NaN                     \n90593                                                NaN                     \n\n       MONTHLY_EXPENSE_ON_BATTERIES  MONTHLY_EXPENSE_ON_MEAT  \\\n90585                           NaN                      NaN   \n90586                           NaN                      NaN   \n90587                           NaN                      NaN   \n90588                           NaN                      NaN   \n90593                           NaN                      NaN   \n\n       ADJ_MONTHLY_EXPENSE_ON_MEAT  MONTHLY_EXPENSE_ON_FISH  \\\n90585                          NaN                      NaN   \n90586                          NaN                      NaN   \n90587                          NaN                      NaN   \n90588                          NaN                      NaN   \n90593                          NaN                      NaN   \n\n      ADJ_MONTHLY_EXPENSE_ON_FISH MONTHLY_EXPENSE_ON_OTT  \n90585                         NaN                    NaN  \n90586                         NaN                    NaN  \n90587                         NaN                    NaN  \n90588                         NaN                    NaN  \n90593                         NaN                    NaN  \n\n[5 rows x 225 columns]",
      "text/html": "<div>\n<style scoped>\n    .dataframe tbody tr th:only-of-type {\n        vertical-align: middle;\n    }\n\n    .dataframe tbody tr th {\n        vertical-align: top;\n    }\n\n    .dataframe thead th {\n        text-align: right;\n    }\n</style>\n<table border=\"1\" class=\"dataframe\">\n  <thead>\n    <tr style=\"text-align: right;\">\n      <th></th>\n      <th>HH_ID</th>\n      <th>STATE</th>\n      <th>HR</th>\n      <th>DISTRICT</th>\n      <th>REGION_TYPE</th>\n      <th>STRATUM</th>\n      <th>PSU_ID</th>\n      <th>MONTH_SLOT</th>\n      <th>MONTH</th>\n      <th>RESPONSE_STATUS</th>\n      <th>...</th>\n      <th>MONTHLY_EXPENSE_ON_HEALTH_SERVICES</th>\n      <th>MONTHLY_EXPENSE_ON_HEALTH_OTHERS</th>\n      <th>ADJ_MONTHLY_EXPENSE_ON_VEGETABLES_AND_FRUITS</th>\n      <th>MONTHLY_EXPENSE_ON_SPECTACLES_CONTACT_LENSES_AND_OTHER_MEDICAL_AIDS</th>\n      <th>MONTHLY_EXPENSE_ON_BATTERIES</th>\n      <th>MONTHLY_EXPENSE_ON_MEAT</th>\n      <th>ADJ_MONTHLY_EXPENSE_ON_MEAT</th>\n      <th>MONTHLY_EXPENSE_ON_FISH</th>\n      <th>ADJ_MONTHLY_EXPENSE_ON_FISH</th>\n      <th>MONTHLY_EXPENSE_ON_OTT</th>\n    </tr>\n  </thead>\n  <tbody>\n    <tr>\n      <th>90585</th>\n      <td>94762800</td>\n      <td>Karnataka</td>\n      <td>HR 59</td>\n      <td>Chitradurga</td>\n      <td>RURAL</td>\n      <td>HR 59_RURAL_R</td>\n      <td>PSU_ID_9714</td>\n      <td>Jun 2017</td>\n      <td>Apr 2017</td>\n      <td>Accepted</td>\n      <td>...</td>\n      <td>NaN</td>\n      <td>NaN</td>\n      <td>NaN</td>\n      <td>NaN</td>\n      <td>NaN</td>\n      <td>NaN</td>\n      <td>NaN</td>\n      <td>NaN</td>\n      <td>NaN</td>\n      <td>NaN</td>\n    </tr>\n    <tr>\n      <th>90586</th>\n      <td>64280047</td>\n      <td>Karnataka</td>\n      <td>HR 59</td>\n      <td>Chitradurga</td>\n      <td>RURAL</td>\n      <td>HR 59_RURAL_R</td>\n      <td>PSU_ID_9714</td>\n      <td>Jun 2017</td>\n      <td>Apr 2017</td>\n      <td>Accepted</td>\n      <td>...</td>\n      <td>NaN</td>\n      <td>NaN</td>\n      <td>NaN</td>\n      <td>NaN</td>\n      <td>NaN</td>\n      <td>NaN</td>\n      <td>NaN</td>\n      <td>NaN</td>\n      <td>NaN</td>\n      <td>NaN</td>\n    </tr>\n    <tr>\n      <th>90587</th>\n      <td>79586257</td>\n      <td>Karnataka</td>\n      <td>HR 59</td>\n      <td>Chitradurga</td>\n      <td>RURAL</td>\n      <td>HR 59_RURAL_R</td>\n      <td>PSU_ID_9714</td>\n      <td>Jun 2017</td>\n      <td>Apr 2017</td>\n      <td>Accepted</td>\n      <td>...</td>\n      <td>NaN</td>\n      <td>NaN</td>\n      <td>NaN</td>\n      <td>NaN</td>\n      <td>NaN</td>\n      <td>NaN</td>\n      <td>NaN</td>\n      <td>NaN</td>\n      <td>NaN</td>\n      <td>NaN</td>\n    </tr>\n    <tr>\n      <th>90588</th>\n      <td>73429517</td>\n      <td>Karnataka</td>\n      <td>HR 59</td>\n      <td>Chitradurga</td>\n      <td>RURAL</td>\n      <td>HR 59_RURAL_R</td>\n      <td>PSU_ID_9714</td>\n      <td>Jun 2017</td>\n      <td>Apr 2017</td>\n      <td>Accepted</td>\n      <td>...</td>\n      <td>NaN</td>\n      <td>NaN</td>\n      <td>NaN</td>\n      <td>NaN</td>\n      <td>NaN</td>\n      <td>NaN</td>\n      <td>NaN</td>\n      <td>NaN</td>\n      <td>NaN</td>\n      <td>NaN</td>\n    </tr>\n    <tr>\n      <th>90593</th>\n      <td>60248833</td>\n      <td>Karnataka</td>\n      <td>HR 59</td>\n      <td>Chitradurga</td>\n      <td>RURAL</td>\n      <td>HR 59_RURAL_R</td>\n      <td>PSU_ID_9714</td>\n      <td>Jun 2017</td>\n      <td>Apr 2017</td>\n      <td>Accepted</td>\n      <td>...</td>\n      <td>NaN</td>\n      <td>NaN</td>\n      <td>NaN</td>\n      <td>NaN</td>\n      <td>NaN</td>\n      <td>NaN</td>\n      <td>NaN</td>\n      <td>NaN</td>\n      <td>NaN</td>\n      <td>NaN</td>\n    </tr>\n  </tbody>\n</table>\n<p>5 rows × 225 columns</p>\n</div>"
     },
     "execution_count": 28,
     "metadata": {},
     "output_type": "execute_result"
    }
   ],
   "source": [
    "df2.head()"
   ],
   "metadata": {
    "collapsed": false,
    "ExecuteTime": {
     "end_time": "2023-06-13T09:07:50.791949Z",
     "start_time": "2023-06-13T09:07:50.725824Z"
    }
   }
  },
  {
   "cell_type": "code",
   "execution_count": 29,
   "outputs": [],
   "source": [
    "# Save the DataFrames as pickle\n",
    "df2.to_pickle(\"/Users/niteeshshanbog/Downloads/2023-05-26_07-37-30/pythonProject/venv/pickles/consumption_data_karnataka.pickle\")"
   ],
   "metadata": {
    "collapsed": false,
    "ExecuteTime": {
     "end_time": "2023-06-13T09:09:20.084498Z",
     "start_time": "2023-06-13T09:09:19.942778Z"
    }
   }
  },
  {
   "cell_type": "code",
   "execution_count": null,
   "outputs": [],
   "source": [],
   "metadata": {
    "collapsed": false
   }
  }
 ],
 "metadata": {
  "kernelspec": {
   "display_name": "Python 3",
   "language": "python",
   "name": "python3"
  },
  "language_info": {
   "codemirror_mode": {
    "name": "ipython",
    "version": 2
   },
   "file_extension": ".py",
   "mimetype": "text/x-python",
   "name": "python",
   "nbconvert_exporter": "python",
   "pygments_lexer": "ipython2",
   "version": "2.7.6"
  }
 },
 "nbformat": 4,
 "nbformat_minor": 0
}
